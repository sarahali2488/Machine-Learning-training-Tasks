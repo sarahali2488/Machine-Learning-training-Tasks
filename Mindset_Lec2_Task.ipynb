{
  "nbformat": 4,
  "nbformat_minor": 0,
  "metadata": {
    "colab": {
      "provenance": []
    },
    "kernelspec": {
      "name": "python3",
      "display_name": "Python 3"
    },
    "language_info": {
      "name": "python"
    }
  },
  "cells": [
    {
      "cell_type": "markdown",
      "source": [
        "# **Task on if condition**"
      ],
      "metadata": {
        "id": "W0cgShwtoe0x"
      }
    },
    {
      "cell_type": "markdown",
      "source": [
        "1. Using following list of cities per country,\n",
        "    ```\n",
        "    india = [\"mumbai\", \"banglore\", \"chennai\", \"delhi\"]\n",
        "    pakistan = [\"lahore\",\"karachi\",\"islamabad\"]\n",
        "    bangladesh = [\"dhaka\", \"khulna\", \"rangpur\"]\n",
        "    ```\n",
        "    1. Write a program that asks user to enter a city name and it should tell which country the city belongs to\n",
        "    2. Write a program that asks user to enter two cities and it tells you if they both are in same country or not. For example if I enter mumbai and chennai, it will print \"Both cities are in India\" but if I enter mumbai and dhaka it should print \"They don't belong to same country\"\n",
        "2. Write a python program that can tell you if your sugar is normal or not. Normal fasting level sugar range is 80 to 100.\n",
        "    1. Ask user to enter his fasting sugar level\n",
        "    2. If it is below 80 to 100 range then print that sugar is low\n",
        "    3. If it is above 100 then print that it is high otherwise print that it is normal\n"
      ],
      "metadata": {
        "id": "L6KMOjweozWx"
      }
    },
    {
      "cell_type": "code",
      "source": [
        "india = [\"mumbai\", \"banglore\", \"chennai\", \"delhi\"]\n",
        "pakistan = [\"lahore\",\"karachi\",\"islamabad\"]\n",
        "bangladesh = [\"dhaka\", \"khulna\", \"rangpur\"]\n",
        "\n",
        "# 1.1. Country the city belongs to\n",
        "city_name = input(\"Tell me a city name.\")\n",
        "\n",
        "if city in india:\n",
        "  print(f\"The city {city_name} exists in India.\")\n",
        "elif city in pakistan:\n",
        "  print(f\"The city {city_name} exists in Pakistan.\")\n",
        "elif city in bangladesh:\n",
        "  print(f\"The city {city_name} exists in Bangladesh.\")\n",
        "else:\n",
        "    print(f\"City {city_name} is out of India, Pakistan and Bangladesh!\")\n",
        "\n",
        "\n",
        "# 1.2. Two cities\n",
        "city1 = input(\"Enter first city name: \").lower()\n",
        "city2 = input(\"Enter second city name: \").lower()\n",
        "\n",
        "if city1 in india and city2 in india:\n",
        "    print(\"Both cities are in India.\")\n",
        "elif city1 in pakistan and city2 in pakistan:\n",
        "    print(\"Both cities are in Pakistan.\")\n",
        "elif city1 in bangladesh and city2 in bangladesh:\n",
        "    print(\"Both cities are in Bangladesh.\")\n",
        "else:\n",
        "    print(\"They don't belong to the same country.\")\n",
        "\n",
        "# 2. If condition to check if your sugar is normal or not\n",
        "sugar = int(input(\"Enter your fasting sugar level: \"))\n",
        "\n",
        "if sugar < 80:\n",
        "    print(\"Your sugar level is low.\")\n",
        "elif sugar > 100:\n",
        "    print(\"Your sugar level is high.\")\n",
        "else:\n",
        "    print(\"Your sugar level is normal.\")\n"
      ],
      "metadata": {
        "colab": {
          "base_uri": "https://localhost:8080/"
        },
        "id": "_kKSMfpDQeRj",
        "outputId": "27ecd321-cbf5-4486-c00e-64fca20ec2ae"
      },
      "execution_count": null,
      "outputs": [
        {
          "output_type": "stream",
          "name": "stdout",
          "text": [
            "Tell me a city name.islamabad\n",
            "The city islamabad exists in Bangladesh.\n",
            "Enter first city name: islamabad\n",
            "Enter second city name: islamabad\n",
            "Both cities are in Pakistan.\n",
            "Enter your fasting sugar level: 85\n",
            "Your sugar level is normal.\n"
          ]
        }
      ]
    },
    {
      "cell_type": "markdown",
      "source": [
        "# **Task on for loops**"
      ],
      "metadata": {
        "id": "4Cfq5HqXo01w"
      }
    },
    {
      "cell_type": "markdown",
      "source": [
        "1. After flipping a coin 10 times you got this result,\n",
        "```\n",
        "result = [\"heads\",\"tails\",\"tails\",\"heads\",\"tails\",\"heads\",\"heads\",\"tails\",\"tails\",\"tails\"]\n",
        "```\n",
        "Using for loop figure out how many times you got heads\n",
        "\n",
        "2. Print square of all numbers between 1 to 10 except even numbers\n",
        "3. Your monthly expense list (from Jan to May) looks like this,\n",
        "```\n",
        "expense_list = [2340, 2500, 2100, 3100, 2980]\n",
        "```\n",
        "Write a program that asks you to enter an expense amount and program\n",
        "should tell you in which month that expense occurred. If expense is not\n",
        "found then it should print that as well.\n",
        "\n",
        "4. Lets say you are running a 5 km race. Write a program that,\n",
        "   1. Upon completing each 1 km asks you \"are you tired?\"\n",
        "   2. If you reply \"yes\" then it should break and print \"you didn't finish the race\"\n",
        "   3. If you reply \"no\" then it should continue and ask \"are you tired\" on every km\n",
        "   4. If you finish all 5 km then it should print congratulations message\n"
      ],
      "metadata": {
        "id": "qDijpad9qFo_"
      }
    },
    {
      "cell_type": "code",
      "source": [
        "result = [\"heads\",\"tails\",\"tails\",\"heads\",\"tails\",\"heads\",\"heads\",\"tails\",\"tails\",\"tails\"]\n",
        "\n",
        "# 1. How many times you got head\n",
        "count = 0\n",
        "for flip in result:\n",
        "    if flip == \"heads\":\n",
        "        count += 1\n",
        "print(\"Number of heads:\", count)"
      ],
      "metadata": {
        "colab": {
          "base_uri": "https://localhost:8080/"
        },
        "id": "zhvFecAWUVq9",
        "outputId": "fee3a976-0774-435d-a604-aec8aa1c355c"
      },
      "execution_count": null,
      "outputs": [
        {
          "output_type": "stream",
          "name": "stdout",
          "text": [
            "Number of heads: 4\n"
          ]
        }
      ]
    },
    {
      "cell_type": "code",
      "source": [
        "# 2. square of all numbers between 1 to 10 except even numbers\n",
        "for i in range(1, 11):\n",
        "    if i % 2 != 0:\n",
        "        print(f\"Square of {i} is {i ** 2}\")"
      ],
      "metadata": {
        "colab": {
          "base_uri": "https://localhost:8080/"
        },
        "id": "iokMracLUsjc",
        "outputId": "3f6096f8-3e91-4ecb-8498-1061d4050970"
      },
      "execution_count": null,
      "outputs": [
        {
          "output_type": "stream",
          "name": "stdout",
          "text": [
            "Square of 1 is 1\n",
            "Square of 3 is 9\n",
            "Square of 5 is 25\n",
            "Square of 7 is 49\n",
            "Square of 9 is 81\n"
          ]
        }
      ]
    },
    {
      "cell_type": "code",
      "source": [
        "# 3. In which month your expense occurred\n",
        "\n",
        "expense_list = [2340, 2500, 2100, 3100, 2980]\n",
        "months = [\"January\", \"February\", \"March\", \"April\", \"May\"]\n",
        "\n",
        "expense = int(input(\"Enter your expense amount: \"))\n",
        "\n",
        "for i in range(len(expense_list)):\n",
        "    if expense_list[i] == expense:\n",
        "        print(f\"Expense occurred in {months[i]}\")\n",
        "\n",
        "if expense not in expense_list:\n",
        "  print(\"Expense not found.\")"
      ],
      "metadata": {
        "colab": {
          "base_uri": "https://localhost:8080/"
        },
        "id": "wEo-XkIWU3BL",
        "outputId": "76de639e-d6e2-41b1-855f-def6e783583e"
      },
      "execution_count": null,
      "outputs": [
        {
          "output_type": "stream",
          "name": "stdout",
          "text": [
            "Enter your expense amount: 2500\n",
            "Expense occurred in February\n"
          ]
        }
      ]
    },
    {
      "cell_type": "code",
      "source": [
        "# 4. The race counter\n",
        "\n",
        "for km in range(1, 6):\n",
        "    response = input(f\"Completed {km} km. Are you tired? (yes/no): \").lower()\n",
        "    if response == \"yes\":\n",
        "        print(\"You didn't finish the race.\")\n",
        "        break\n",
        "else:\n",
        "    print(\"Congratulations! You finished the 5 km race!\")"
      ],
      "metadata": {
        "colab": {
          "base_uri": "https://localhost:8080/"
        },
        "id": "3Nqy0XVVVrmp",
        "outputId": "e7485eb6-64db-40c0-ad70-3dbcbea35376"
      },
      "execution_count": null,
      "outputs": [
        {
          "output_type": "stream",
          "name": "stdout",
          "text": [
            "Completed 1 km. Are you tired? (yes/no): no\n",
            "Completed 2 km. Are you tired? (yes/no): no\n",
            "Completed 3 km. Are you tired? (yes/no): no\n",
            "Completed 4 km. Are you tired? (yes/no): no\n",
            "Completed 5 km. Are you tired? (yes/no): no\n",
            "Congratulations! You finished the 5 km race!\n"
          ]
        }
      ]
    },
    {
      "cell_type": "code",
      "source": [
        "# 5. Write a program that prints following shape\n",
        "'''\n",
        "*\n",
        "**\n",
        "***\n",
        "****\n",
        "*****\n",
        "'''\n",
        "\n",
        "\n",
        "# Program to print triangle shape\n",
        "\n",
        "for i in range(1, 6):\n",
        "    print('*' * i)"
      ],
      "metadata": {
        "id": "5uciA349qLUq",
        "colab": {
          "base_uri": "https://localhost:8080/"
        },
        "outputId": "5ae390d4-bce0-447b-c54d-14410d796fbf"
      },
      "execution_count": null,
      "outputs": [
        {
          "output_type": "stream",
          "name": "stdout",
          "text": [
            "*\n",
            "**\n",
            "***\n",
            "****\n",
            "*****\n"
          ]
        }
      ]
    },
    {
      "cell_type": "markdown",
      "source": [
        "# **Task on List Set Dict Comprehensions**"
      ],
      "metadata": {
        "id": "iNJMcH97wu0B"
      }
    },
    {
      "cell_type": "markdown",
      "source": [
        "1. Create a Dictionary which contains the Binary values mapping with numbers found in the below integer and binary and save it in binary_dict.\n",
        "\n",
        "Example :\n",
        "```\n",
        "    integer = [0, 1, 2, 3, 4]\n",
        "    binary = [\"0\", \"1\", \"10\", \"11\", \"100\"]\n",
        "    binary_dict = {0:\"0\", 1:\"1\", 2:\"10\", 3: \"11\", 4:\"100\"}\n",
        "```\n",
        "\n",
        "2. Create a List which contains additive inverse of a given integer list.\n",
        "An additive inverse `a` for an integer `i` is a number such that:\n",
        "```\n",
        "a + i = 0\n",
        "```\n",
        "Example:\n",
        "```\n",
        "integer = [1, -1, 2, 3, 5, 0, -7]\n",
        "additive_inverse = [-1, 1, -2, -3, -5, 0, 7]\n",
        "```\n",
        "\n",
        "3. Create a set which only contains unique sqaures from a given a integer list.\n",
        "```\n",
        "integer = [1, -1, 2, -2, 3, -3]\n",
        "sq_set = {1, 4, 9}\n",
        "```\n"
      ],
      "metadata": {
        "id": "1mCLeGEBw1gn"
      }
    },
    {
      "cell_type": "code",
      "source": [
        "# 1.\n",
        "integer = [0, 1, 2, 3, 4]\n",
        "binary = [\"0\", \"1\", \"10\", \"11\", \"100\"]\n",
        "\n",
        "binary_dict = {}\n",
        "\n",
        "for i in range(len(integer)):\n",
        "    binary_dict[integer[i]] = binary[i]\n",
        "\n",
        "print(\"Binary Dictionary:\", binary_dict)"
      ],
      "metadata": {
        "colab": {
          "base_uri": "https://localhost:8080/"
        },
        "id": "fAAFtJadaHHY",
        "outputId": "09139583-fed9-41b8-eea3-b7441ebf2abb"
      },
      "execution_count": 28,
      "outputs": [
        {
          "output_type": "stream",
          "name": "stdout",
          "text": [
            "Binary Dictionary: {0: '0', 1: '1', 2: '10', 3: '11', 4: '100'}\n"
          ]
        }
      ]
    },
    {
      "cell_type": "code",
      "source": [
        "# 2.\n",
        "integer = [1, -1, 2, 3, 5, 0, -7]\n",
        "\n",
        "additive_inverse = []\n",
        "\n",
        "for i in integer:\n",
        "    additive_inverse.append(-i)\n",
        "\n",
        "print(\"Additive Inverses list:\", additive_inverse)"
      ],
      "metadata": {
        "colab": {
          "base_uri": "https://localhost:8080/"
        },
        "id": "ZS_ptsPianUf",
        "outputId": "f67c2021-05b9-4ad8-bfc5-0b8dfb7b48fa"
      },
      "execution_count": 29,
      "outputs": [
        {
          "output_type": "stream",
          "name": "stdout",
          "text": [
            "Additive Inverses list: [-1, 1, -2, -3, -5, 0, 7]\n"
          ]
        }
      ]
    },
    {
      "cell_type": "code",
      "source": [
        "# 3.\n",
        "integer = [1, -1, 2, -2, 3, -3]\n",
        "square_set = set()\n",
        "\n",
        "for i in integer:\n",
        "    square = i * i\n",
        "    square_set.add(square)\n",
        "\n",
        "print(\"Unique Squares Set:\", square_set)"
      ],
      "metadata": {
        "colab": {
          "base_uri": "https://localhost:8080/"
        },
        "id": "Qbmamy1Oa41N",
        "outputId": "fa18ca50-49e8-48d8-e406-620939bf5818"
      },
      "execution_count": 35,
      "outputs": [
        {
          "output_type": "stream",
          "name": "stdout",
          "text": [
            "Unique Squares Set: {1, 4, 9}\n"
          ]
        }
      ]
    },
    {
      "cell_type": "markdown",
      "source": [
        "# **Task on Dict and Tuple**"
      ],
      "metadata": {
        "id": "PrOPDuIyqOyY"
      }
    },
    {
      "cell_type": "markdown",
      "source": [
        " 1. We have following information on countries and their population (population is in crores),\n",
        "\n",
        "    |Country|Population|\n",
        "\n",
        "    |-------|----------|\n",
        "    \n",
        "    |China|143|\n",
        "\n",
        "    |India|136|\n",
        "    \n",
        "    |USA|32|\n",
        "    \n",
        "    |Pakistan|21|\n",
        "    \n",
        "    1. Using above create a dictionary of countries and its population\n",
        "    2. Write a program that asks user for three type of inputs,\n",
        "         1. print: if user enter print then it should print all countries with their population in this format,\n",
        "            ```\n",
        "            china==>143\n",
        "            india==>136\n",
        "            usa==>32\n",
        "            pakistan==>21\n",
        "            ```\n",
        "        1. add: if user input add then it should further ask for a country name to add. If country already exist in our dataset then it should print that it exist and do nothing. If it doesn't then it asks for population and add that new country/population in our dictionary and print it\n",
        "        2. remove: when user inputs remove it should ask for a country to remove. If country exist in our dictionary then remove it and print new dictionary using format shown above in (a). Else print that country doesn't exist!\n",
        "        3. query: on this again ask user for which country he or she wants to query. When user inputs that country it will print population of that country."
      ],
      "metadata": {
        "id": "KWJn0szuc6aC"
      }
    },
    {
      "cell_type": "code",
      "source": [
        "# 1.1 Dict of country and their population\n",
        "country_population = {\n",
        "    \"china\": 143,\n",
        "    \"india\": 136,\n",
        "    \"usa\": 32,\n",
        "    \"pakistan\": 21\n",
        "}\n",
        "\n",
        "# 2. Print, Add\n",
        "user_input= input(\"Enter your action : print / add / remove/ query  \")\n",
        "\n",
        "if user_input.lower() == 'print':\n",
        "  for c,p in country_population.items():\n",
        "    print(f\"{c} ==> {p}\")\n",
        "\n",
        "elif user_input.lower() == 'add':\n",
        "  new_country = input(\"Input the country name\")\n",
        "\n",
        "  if new_country in country_population:\n",
        "    print(f\"The country {new_country} already exists\")\n",
        "\n",
        "  else:\n",
        "    new_population = input(f\"Input the population of {new_country}\")\n",
        "    country_population[new_country] = new_population\n",
        "    for c, p in country_population.items():\n",
        "      print(\"After removing the country:\")\n",
        "      print(f\"{c} ==> {p}\")\n",
        "\n",
        "elif user_input.lower() == 'remove':\n",
        "  country_to_remove = input(\"Input the country name which you want to remove  \")\n",
        "\n",
        "  if country_to_remove in country_population:\n",
        "    del country_population[country_to_remove]\n",
        "\n",
        "    for c, p in country_population.items():\n",
        "      print(\"After removing the country:\")\n",
        "      print(f\"{c} ==> {p}\")\n",
        "\n",
        "  else:\n",
        "    print(f\"{country_to_remove} doesn't exist.\")\n",
        "\n",
        "\n",
        "elif user_input.lower() == 'query':\n",
        "  country_to_query = input(\"Input the country name which you want to query  \")\n",
        "\n",
        "  if country_to_query in country_population:\n",
        "    print(f\"Population of {country_to_query} is {country_population[country_to_query]}\")\n",
        "\n",
        "else:\n",
        "    print(\"Invalid input!\")"
      ],
      "metadata": {
        "id": "EndcNKm8syaM",
        "colab": {
          "base_uri": "https://localhost:8080/"
        },
        "outputId": "5caae870-77f5-4c13-94c4-f21c66487aa7"
      },
      "execution_count": 50,
      "outputs": [
        {
          "output_type": "stream",
          "name": "stdout",
          "text": [
            "Enter your action : print / add / remove/ query  query\n",
            "Input the country name which you want to querychina\n",
            "Population of china is 143\n"
          ]
        }
      ]
    },
    {
      "cell_type": "code",
      "source": [
        "'''2. You are given following list of stocks and their prices in last 3 days,\n",
        "\n",
        "    |Stock|Prices|\n",
        "    |-------|----------|\n",
        "    |info|[600,630,620]|\n",
        "    |ril|[1430,1490,1567]|\n",
        "    |mtl|[234,180,160]|\n",
        "\n",
        "    1. Write a program that asks user for operation. Value of operations could be,\n",
        "        1. print: When user enters print it should print following,\n",
        "            ```\n",
        "            info ==> [600, 630, 620] ==> avg:  616.67\n",
        "            ril ==> [1430, 1490, 1567] ==> avg:  1495.67\n",
        "            mtl ==> [234, 180, 160] ==> avg:  191.33\n",
        "            ```\n",
        "        2. add: When user enters 'add', it asks for stock ticker and price. If stock already exist in your list (like info, ril etc) then it will append the price to the list. Otherwise it will create new entry in your dictionary. For example entering 'tata' and 560 will add tata ==> [560] to the dictionary of stocks.\n",
        "\n",
        "3. Write circle_calc() function that takes radius of a circle as an input from user and then it calculates and returns area, circumference and diameter. You should get these values in your main program by calling circle_calc function and then print them'''"
      ],
      "metadata": {
        "id": "XHIgJY6utNMe"
      },
      "execution_count": null,
      "outputs": []
    },
    {
      "cell_type": "markdown",
      "source": [
        "# **Task on Functions**"
      ],
      "metadata": {
        "id": "uklOASJZlEIj"
      }
    },
    {
      "cell_type": "markdown",
      "source": [
        "1. Write a function called calculate_area that takes base and height as an input and returns and area of a triangle. Equation of an area of a triangle is,\n",
        "```\n",
        "area = (1/2)*base*height\n",
        "```\n",
        "\n",
        "2. Modify above function to take third parameter shape type. It can be either \"triangle\" or \"rectangle\". Based on shape type it will calculate area. Equation of rectangle's area is,\n",
        "```\n",
        "rectangle area=length*width\n",
        "```\n",
        "If no shape is supplied then it should take triangle as a default shape\n",
        "\n"
      ],
      "metadata": {
        "id": "iMvZFpIhlIkl"
      }
    },
    {
      "cell_type": "code",
      "source": [
        "# 1. Area of triangle\n",
        "def calculate_area(base, height):\n",
        "  area = (1/2)*base*height\n",
        "  print(\"Area of the triangle: \",area)\n",
        "  return are\n",
        "\n",
        "# 2. Area of triangle and rectangle\n",
        "def calculate_area_all(base, height, shape_type='triangle'):\n",
        "\n",
        "  if(shape_type.lower() == \"triangle\")\n",
        "    area = (1/2)*base*height\n",
        "    print(\"Area of the triangle: \",area)\n",
        "    return are\n",
        "\n",
        "  elif(shape_type.lower() == \"rectangle\")\n",
        "    area=base*height\n",
        "    print(\"Area of the triangle: \",area)\n",
        "    return area"
      ],
      "metadata": {
        "colab": {
          "base_uri": "https://localhost:8080/"
        },
        "id": "ZAYpVY5mkREo",
        "outputId": "1d60835c-d2f9-46a1-b293-4240ffbcf69d"
      },
      "execution_count": 53,
      "outputs": [
        {
          "output_type": "execute_result",
          "data": {
            "text/plain": [
              "tuple"
            ]
          },
          "metadata": {},
          "execution_count": 53
        }
      ]
    },
    {
      "cell_type": "markdown",
      "source": [
        "3. Write a function called print_pattern that takes integer number as an argument and prints following pattern if input number is 3"
      ],
      "metadata": {
        "id": "Q08GzzMYm59g"
      }
    },
    {
      "cell_type": "code",
      "source": [
        "'''3. Write a function called print_pattern that takes integer number as an argument and prints following pattern if input number is 3,\n",
        "*\n",
        "**\n",
        "***\n",
        "if input is 4 then it should print\n",
        "*\n",
        "**\n",
        "***\n",
        "****\n",
        "Basically number of lines it prints is equal to that number. (Hint: you need to use two for loops)'''"
      ],
      "metadata": {
        "id": "k36chpaXl49M"
      },
      "execution_count": null,
      "outputs": []
    },
    {
      "cell_type": "code",
      "source": [
        "def print_pattern(n):\n",
        "    for i in range(1, n + 1):\n",
        "        print(\"*\" * i)\n",
        "\n",
        "print_pattern(3)"
      ],
      "metadata": {
        "colab": {
          "base_uri": "https://localhost:8080/"
        },
        "id": "V1RpfjgKnXGO",
        "outputId": "e8915086-48d4-4cbf-b503-5a0319d36e32"
      },
      "execution_count": 55,
      "outputs": [
        {
          "output_type": "stream",
          "name": "stdout",
          "text": [
            "*\n",
            "**\n",
            "***\n"
          ]
        }
      ]
    },
    {
      "cell_type": "code",
      "source": [
        "print_pattern(5)"
      ],
      "metadata": {
        "colab": {
          "base_uri": "https://localhost:8080/"
        },
        "id": "gF5zvBmcncR_",
        "outputId": "a92e6138-9304-466e-82fe-ebd3ca5e53d2"
      },
      "execution_count": 56,
      "outputs": [
        {
          "output_type": "stream",
          "name": "stdout",
          "text": [
            "*\n",
            "**\n",
            "***\n",
            "****\n",
            "*****\n"
          ]
        }
      ]
    },
    {
      "cell_type": "markdown",
      "source": [
        "_____________"
      ],
      "metadata": {
        "id": "qctk0x9vnfQ3"
      }
    },
    {
      "cell_type": "markdown",
      "source": [
        "Made by: Sarah Ali Mohamed.\n",
        "\n",
        "Supervised by: Mindset"
      ],
      "metadata": {
        "id": "LbXrZM0Ingkd"
      }
    }
  ]
}