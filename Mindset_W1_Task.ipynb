{
  "nbformat": 4,
  "nbformat_minor": 0,
  "metadata": {
    "colab": {
      "provenance": []
    },
    "kernelspec": {
      "name": "python3",
      "display_name": "Python 3"
    },
    "language_info": {
      "name": "python"
    }
  },
  "cells": [
    {
      "cell_type": "markdown",
      "source": [
        "# **Pandas Tasks:**"
      ],
      "metadata": {
        "id": "7YaA2Fvb6Zsy"
      }
    },
    {
      "cell_type": "markdown",
      "source": [
        "# **Tasks on Series:**"
      ],
      "metadata": {
        "id": "dzwo0bHX6gwp"
      }
    },
    {
      "cell_type": "code",
      "source": [
        "# 1. Write a Pandas program to create and display a one-dimensional array-like object containing an array of data using Pandas module.\n",
        "import pandas as pd\n",
        "data = [10, 20, 30, 40, 50]\n",
        "series = pd.Series(data)\n",
        "print(series)"
      ],
      "metadata": {
        "id": "la2E11xGZCXf",
        "colab": {
          "base_uri": "https://localhost:8080/"
        },
        "outputId": "f8cc22b6-3963-42ce-90e2-e1e019e88c88"
      },
      "execution_count": 2,
      "outputs": [
        {
          "output_type": "stream",
          "name": "stdout",
          "text": [
            "0    10\n",
            "1    20\n",
            "2    30\n",
            "3    40\n",
            "4    50\n",
            "dtype: int64\n"
          ]
        }
      ]
    },
    {
      "cell_type": "code",
      "source": [
        "# 2. Write a Pandas program to add, subtract, multiple and divide two Pandas Series.\n",
        "# Sample Series: [2, 4, 6, 8, 10], [1, 3, 5, 7, 9]\n",
        "\n",
        "s1 = pd.Series([2, 4, 6, 8, 10])\n",
        "s2 = pd.Series([1, 3, 5, 7, 9])\n",
        "\n",
        "print(\"Addition:\\n\", s1 + s2)\n",
        "print(\"Subtraction:\\n\", s1 - s2)\n",
        "print(\"Multiplication:\\n\", s1 * s2)\n",
        "print(\"Division:\\n\", s1 / s2)"
      ],
      "metadata": {
        "colab": {
          "base_uri": "https://localhost:8080/"
        },
        "id": "5bWNIyL8ZJ7E",
        "outputId": "81013e8d-25c5-41d7-9564-ba056b232dcf"
      },
      "execution_count": null,
      "outputs": [
        {
          "output_type": "stream",
          "name": "stdout",
          "text": [
            "Addition:\n",
            " 0     3\n",
            "1     7\n",
            "2    11\n",
            "3    15\n",
            "4    19\n",
            "dtype: int64\n",
            "Subtraction:\n",
            " 0    1\n",
            "1    1\n",
            "2    1\n",
            "3    1\n",
            "4    1\n",
            "dtype: int64\n",
            "Multiplication:\n",
            " 0     2\n",
            "1    12\n",
            "2    30\n",
            "3    56\n",
            "4    90\n",
            "dtype: int64\n",
            "Division:\n",
            " 0    2.000000\n",
            "1    1.333333\n",
            "2    1.200000\n",
            "3    1.142857\n",
            "4    1.111111\n",
            "dtype: float64\n"
          ]
        }
      ]
    },
    {
      "cell_type": "code",
      "source": [
        "\"\"\"\n",
        "3. Write a Pandas program to convert a NumPy array to a Pandas series.\n",
        "Sample Series:\n",
        "NumPy array:\n",
        "[10 20 30 40 50]\n",
        "\n",
        "Converted Pandas series:\n",
        "0 10\n",
        "1 20\n",
        "2 30\n",
        "3 40\n",
        "4 50\n",
        "dtype: int64\n",
        "\"\"\"\n",
        "\n",
        "import numpy as np\n",
        "import pandas as pd\n",
        "\n",
        "arr = np.array([10, 20, 30, 40, 50])\n",
        "series = pd.Series(arr)\n",
        "\n",
        "print(series)"
      ],
      "metadata": {
        "colab": {
          "base_uri": "https://localhost:8080/"
        },
        "id": "Hot11EkPZR3G",
        "outputId": "99a453fb-1c87-4e64-ef56-8278a3f5f0dc"
      },
      "execution_count": null,
      "outputs": [
        {
          "output_type": "stream",
          "name": "stdout",
          "text": [
            "0    10\n",
            "1    20\n",
            "2    30\n",
            "3    40\n",
            "4    50\n",
            "dtype: int64\n"
          ]
        }
      ]
    },
    {
      "cell_type": "code",
      "source": [
        "\"\"\"\n",
        "4. Write a Pandas program to change the data type of given a column or a Series.\n",
        "Sample Series:\n",
        "Original Data Series:\n",
        "0 100\n",
        "1 200\n",
        "2 python\n",
        "3 300.12\n",
        "4 400\n",
        "dtype: object\n",
        "\n",
        "Change the said data type to numeric:\n",
        "0 100.00\n",
        "1 200.00\n",
        "2 NaN\n",
        "3 300.12\n",
        "4 400.00\n",
        "dtype: float64\n",
        "\"\"\"\n",
        "\n",
        "s = pd.Series([100, 200, 'python', 300.12, 400])\n",
        "print(s)\n",
        "\n",
        "numeric_s = pd.to_numeric(s, errors='coerce')\n",
        "print(numeric_s)"
      ],
      "metadata": {
        "colab": {
          "base_uri": "https://localhost:8080/"
        },
        "id": "2RJ5CWnsZeE1",
        "outputId": "bd03bd87-15cb-4a0a-8605-61a012730bf3"
      },
      "execution_count": null,
      "outputs": [
        {
          "output_type": "stream",
          "name": "stdout",
          "text": [
            "0       100\n",
            "1       200\n",
            "2    python\n",
            "3    300.12\n",
            "4       400\n",
            "dtype: object\n",
            "0    100.00\n",
            "1    200.00\n",
            "2       NaN\n",
            "3    300.12\n",
            "4    400.00\n",
            "dtype: float64\n"
          ]
        }
      ]
    },
    {
      "cell_type": "code",
      "execution_count": 3,
      "metadata": {
        "id": "QC0vNDBd3bV3",
        "colab": {
          "base_uri": "https://localhost:8080/"
        },
        "outputId": "bdfa3a89-ca40-42bd-bafa-da4ab3f1b497"
      },
      "outputs": [
        {
          "output_type": "stream",
          "name": "stdout",
          "text": [
            "Original DataFrame\n",
            "    col1  col2  col3\n",
            "0     1     4     7\n",
            "1     2     5     5\n",
            "2     3     6     8\n",
            "3     4     9    12\n",
            "4     7     5     1\n",
            "5    11     0    11\n",
            "\n",
            "1st column as a Series: \n",
            " 0     1\n",
            "1     2\n",
            "2     3\n",
            "3     4\n",
            "4     7\n",
            "5    11\n",
            "Name: col1, dtype: int64\n"
          ]
        }
      ],
      "source": [
        "\"\"\"5. Write a Pandas program to convert the first column of a DataFrame as a Series.\n",
        "Sample Output:\n",
        "Original DataFrame\n",
        "col1 col2 col3\n",
        "0 1 4 7\n",
        "1 2 5 5\n",
        "2 3 6 8\n",
        "3 4 9 12\n",
        "4 7 5 1\n",
        "5 11 0 11\n",
        "\n",
        "1st column as a Series:\n",
        "0 1\n",
        "1 2\n",
        "2 3\n",
        "3 4\n",
        "4 7\n",
        "5 11\n",
        "\"\"\"\n",
        "\n",
        "df = pd.DataFrame({\n",
        "    'col1': [1, 2, 3, 4, 7, 11],\n",
        "    'col2': [4, 5, 6, 9, 5, 0],\n",
        "    'col3': [7, 5, 8, 12, 1, 11]\n",
        "})\n",
        "\n",
        "print(\"Original DataFrame\\n\", df)\n",
        "\n",
        "first_col_series = df.iloc[:, 0]\n",
        "\n",
        "print(\"\\n1st column as a Series: \\n\" , first_col_series)"
      ]
    },
    {
      "cell_type": "markdown",
      "source": [
        "# **Tasks on DataFrames:**"
      ],
      "metadata": {
        "id": "SAO4EccOB7lK"
      }
    },
    {
      "cell_type": "code",
      "source": [
        "\"\"\"\n",
        "1.Write a Pandas program to create a dataframe from a dictionary and display it.\n",
        "Sample data: {'X':[78,85,96,80,86], 'Y':[84,94,89,83,86],'Z':[86,97,96,72,83]}\n",
        "Expected Output:\n",
        "X Y Z\n",
        "0 78 84 86\n",
        "1 85 94 97\n",
        "2 96 89 96\n",
        "3 80 83 72\n",
        "4 86 86 83\n",
        "\"\"\"\n",
        "\n",
        "import pandas as pd\n",
        "data = {\n",
        "    'X': [78, 85, 96, 80, 86],\n",
        "    'Y': [84, 94, 89, 83, 86],\n",
        "    'Z': [86, 97, 96, 72, 83]\n",
        "}\n",
        "df = pd.DataFrame(data)\n",
        "print(df)"
      ],
      "metadata": {
        "colab": {
          "base_uri": "https://localhost:8080/"
        },
        "id": "Mz4SMjU7jBCC",
        "outputId": "51109ec9-ec79-4363-c940-0579d63730cd"
      },
      "execution_count": 4,
      "outputs": [
        {
          "output_type": "stream",
          "name": "stdout",
          "text": [
            "    X   Y   Z\n",
            "0  78  84  86\n",
            "1  85  94  97\n",
            "2  96  89  96\n",
            "3  80  83  72\n",
            "4  86  86  83\n"
          ]
        }
      ]
    },
    {
      "cell_type": "code",
      "source": [
        "\"\"\"\n",
        "2. Write a Pandas program to count the number of rows and columns of a DataFrame.\n",
        "Sample Python dictionary data and list labels:\n",
        "exam_data = {\n",
        "'name': ['Anastasia', 'Dima', 'Katherine', 'James', 'Emily', 'Michael', 'Matthew', 'Laura', 'Kevin', 'Jonas'],\n",
        "'score': [12.5, 9, 16.5, np.nan, 9, 20, 14.5, np.nan, 8, 19],\n",
        "'attempts': [1, 3, 2, 3, 2, 3, 1, 1, 2, 1],\n",
        "'qualify': ['yes', 'no', 'yes', 'no', 'no', 'yes', 'yes', 'no', 'no', 'yes']}\n",
        "\n",
        "labels = ['a', 'b', 'c', 'd', 'e', 'f', 'g', 'h', 'i', 'j']\n",
        "\n",
        "Expected Output:\n",
        "Number of Rows: 10\n",
        "Number of Columns: 4\n",
        "\"\"\"\n",
        "\n",
        "import pandas as pd\n",
        "import numpy as np\n",
        "\n",
        "exam_data = {\n",
        "    'name': ['Anastasia', 'Dima', 'Katherine', 'James', 'Emily',\n",
        "             'Michael', 'Matthew', 'Laura', 'Kevin', 'Jonas'],\n",
        "    'score': [12.5, 9, 16.5, np.nan, 9, 20, 14.5, np.nan, 8, 19],\n",
        "    'attempts': [1, 3, 2, 3, 2, 3, 1, 1, 2, 1],\n",
        "    'qualify': ['yes', 'no', 'yes', 'no', 'no',\n",
        "                'yes', 'yes', 'no', 'no', 'yes']\n",
        "}\n",
        "labels = ['a', 'b', 'c', 'd', 'e', 'f', 'g', 'h', 'i', 'j']\n",
        "\n",
        "df = pd.DataFrame(exam_data, index=labels)\n",
        "\n",
        "rows = df.shape[0]\n",
        "cols = df.shape[1]\n",
        "print(\"Number of Rows:\", rows)\n",
        "print(\"Number of Columns:\", cols)"
      ],
      "metadata": {
        "colab": {
          "base_uri": "https://localhost:8080/"
        },
        "id": "8nKKDpZ4jVA5",
        "outputId": "9bb35426-d561-49cf-b7be-3ebaab72dc8d"
      },
      "execution_count": 6,
      "outputs": [
        {
          "output_type": "stream",
          "name": "stdout",
          "text": [
            "Number of Rows: 10\n",
            "Number of Columns: 4\n"
          ]
        }
      ]
    },
    {
      "cell_type": "code",
      "source": [
        "\"\"\"3. Write a Pandas program to select the rows where the score is missing, i.e. is NaN. Go to the editor\n",
        "\n",
        "Expected Output:\n",
        "Rows where score is missing:\n",
        "attempts name qualify score\n",
        "d 3 James no NaN\n",
        "h 1 Laura no NaN\n",
        "\"\"\"\n",
        "\n",
        "missing_scores = df[df['score'].isna()]\n",
        "print(\"Rows as score is missing:\")\n",
        "print(missing_scores)"
      ],
      "metadata": {
        "colab": {
          "base_uri": "https://localhost:8080/"
        },
        "id": "bps5XFVxjmam",
        "outputId": "3db8ac60-2ee7-4820-a73d-19ef21dfdc3a"
      },
      "execution_count": 8,
      "outputs": [
        {
          "output_type": "stream",
          "name": "stdout",
          "text": [
            "Rows as score is missing:\n",
            "    name  score  attempts qualify\n",
            "d  James    NaN         3      no\n",
            "h  Laura    NaN         1      no\n"
          ]
        }
      ]
    },
    {
      "cell_type": "code",
      "source": [
        "\"\"\"\n",
        "4. Write a Pandas program to calculate the mean of all students' scores. Data is stored in a dataframe. Go to the editor\n",
        "\n",
        "Expected Output:\n",
        "Mean score for each different student in data frame: 13.5625\n",
        "\"\"\"\n",
        "\n",
        "mean_score = df['score'].mean()\n",
        "print(\"Mean score: \\n\", mean_score)"
      ],
      "metadata": {
        "colab": {
          "base_uri": "https://localhost:8080/"
        },
        "id": "vvYLqw2xkGrY",
        "outputId": "cb9bf737-2550-48ac-a5be-fc82413654f5"
      },
      "execution_count": 9,
      "outputs": [
        {
          "output_type": "stream",
          "name": "stdout",
          "text": [
            "Mean score: \n",
            " 13.5625\n"
          ]
        }
      ]
    },
    {
      "cell_type": "code",
      "source": [
        "\"\"\"\n",
        "5. Write a Pandas program to sort the DataFrame first by 'name' in descending order, then by 'score' in ascending order.\n",
        "Sample Python dictionary data and list labels:\n",
        "exam_data = {'name': ['Anastasia', 'Dima', 'Katherine', 'James', 'Emily', 'Michael', 'Matthew', 'Laura', 'Kevin', 'Jonas'],\n",
        "'score': [12.5, 9, 16.5, np.nan, 9, 20, 14.5, np.nan, 8, 19],\n",
        "'attempts': [1, 3, 2, 3, 2, 3, 1, 1, 2, 1],\n",
        "'qualify': ['yes', 'no', 'yes', 'no', 'no', 'yes', 'yes', 'no', 'no', 'yes']}\n",
        "labels = ['a', 'b', 'c', 'd', 'e', 'f', 'g', 'h', 'i', 'j']\n",
        "Values for each column will be:\n",
        "name : \"Suresh\", score: 15.5, attempts: 1, qualify: \"yes\", label: \"k\"\n",
        "\"\"\"\n",
        "\n",
        "\n",
        "sorted_df = df.sort_values(by=['name', 'score'], ascending=[False, True])\n",
        "print(sorted_df)"
      ],
      "metadata": {
        "colab": {
          "base_uri": "https://localhost:8080/"
        },
        "id": "mmtYbmfdkZzh",
        "outputId": "125725e0-d41f-4c97-b644-50fa1b0f16d4"
      },
      "execution_count": 10,
      "outputs": [
        {
          "output_type": "stream",
          "name": "stdout",
          "text": [
            "        name  score  attempts qualify\n",
            "f    Michael   20.0         3     yes\n",
            "g    Matthew   14.5         1     yes\n",
            "h      Laura    NaN         1      no\n",
            "i      Kevin    8.0         2      no\n",
            "c  Katherine   16.5         2     yes\n",
            "j      Jonas   19.0         1     yes\n",
            "d      James    NaN         3      no\n",
            "e      Emily    9.0         2      no\n",
            "b       Dima    9.0         3      no\n",
            "a  Anastasia   12.5         1     yes\n"
          ]
        }
      ]
    },
    {
      "cell_type": "code",
      "source": [
        "\"\"\"\n",
        "6. Write a Pandas program to replace the 'qualify' column contains the values 'yes' and 'no' with True and False. Go to the editor\n",
        "Sample Python dictionary data and list labels:\n",
        "exam_data = {'name': ['Anastasia', 'Dima', 'Katherine', 'James', 'Emily', 'Michael', 'Matthew', 'Laura', 'Kevin', 'Jonas'],\n",
        "'score': [12.5, 9, 16.5, np.nan, 9, 20, 14.5, np.nan, 8, 19],\n",
        "'attempts': [1, 3, 2, 3, 2, 3, 1, 1, 2, 1],\n",
        "'qualify': ['yes', 'no', 'yes', 'no', 'no', 'yes', 'yes', 'no', 'no', 'yes']}\n",
        "labels = ['a', 'b', 'c', 'd', 'e', 'f', 'g', 'h', 'i', 'j']\n",
        "Expected Output:\n",
        "Replace the 'qualify' column contains the values 'yes' and 'no' with T\n",
        "rue and False:\n",
        "attempts name qualify score\n",
        "a 1 Anastasia True 12.5\n",
        "b 3 Dima False 9.0\n",
        "......\n",
        "i 2 Kevin False 8.0\n",
        "j 1 Jonas True 19.0\n",
        "\"\"\"\n",
        "\n",
        "df['qualify'] = df['qualify'].map({'yes': True, 'no': False})\n",
        "print(df)"
      ],
      "metadata": {
        "colab": {
          "base_uri": "https://localhost:8080/"
        },
        "id": "PoCkSUt4kqFp",
        "outputId": "8418fa6c-b227-41d9-d73e-648463575c8b"
      },
      "execution_count": 16,
      "outputs": [
        {
          "output_type": "stream",
          "name": "stdout",
          "text": [
            "        name  score  attempts qualify\n",
            "a  Anastasia   12.5         1     NaN\n",
            "b       Dima    9.0         3     NaN\n",
            "c  Katherine   16.5         2     NaN\n",
            "d      James    NaN         3     NaN\n",
            "e      Emily    9.0         2     NaN\n",
            "f    Michael   20.0         3     NaN\n",
            "g    Matthew   14.5         1     NaN\n",
            "h      Laura    NaN         1     NaN\n",
            "i      Kevin    8.0         2     NaN\n",
            "j      Jonas   19.0         1     NaN\n"
          ]
        }
      ]
    },
    {
      "cell_type": "code",
      "source": [
        "\"\"\"\n",
        "7. Write a Pandas program to change the name 'James' to 'Suresh' in name column of the DataFrame. Go to the editor\n",
        "Sample Python dictionary data and list labels:\n",
        "exam_data = {'name': ['Anastasia', 'Dima', 'Katherine', 'James', 'Emily', 'Michael', 'Matthew', 'Laura', 'Kevin', 'Jonas'],\n",
        "'score': [12.5, 9, 16.5, np.nan, 9, 20, 14.5, np.nan, 8, 19],\n",
        "'attempts': [1, 3, 2, 3, 2, 3, 1, 1, 2, 1],\n",
        "'qualify': ['yes', 'no', 'yes', 'no', 'no', 'yes', 'yes', 'no', 'no', 'yes']}\n",
        "labels = ['a', 'b', 'c', 'd', 'e', 'f', 'g', 'h', 'i', 'j']\n",
        "Expected Output:\n",
        "Change the name 'James' to \\?Suresh\\?:\n",
        "attempts name qualify score\n",
        "a 1 Anastasia yes 12.5\n",
        "b 3 Dima no 9.0\n",
        ".......\n",
        "i 2 Kevin no 8.0\n",
        "j 1 Jonas yes 19.0\n",
        "\"\"\"\n",
        "\n",
        "df['name'] = df['name'].replace('James', 'Suresh')\n",
        "print(df)"
      ],
      "metadata": {
        "colab": {
          "base_uri": "https://localhost:8080/"
        },
        "id": "OCY9RxU5k8qK",
        "outputId": "4bc8ebfb-471c-4c29-8828-b0249f72196c"
      },
      "execution_count": 17,
      "outputs": [
        {
          "output_type": "stream",
          "name": "stdout",
          "text": [
            "        name  score  attempts qualify\n",
            "a  Anastasia   12.5         1     NaN\n",
            "b       Dima    9.0         3     NaN\n",
            "c  Katherine   16.5         2     NaN\n",
            "d     Suresh    NaN         3     NaN\n",
            "e      Emily    9.0         2     NaN\n",
            "f    Michael   20.0         3     NaN\n",
            "g    Matthew   14.5         1     NaN\n",
            "h      Laura    NaN         1     NaN\n",
            "i      Kevin    8.0         2     NaN\n",
            "j      Jonas   19.0         1     NaN\n"
          ]
        }
      ]
    },
    {
      "cell_type": "code",
      "source": [
        "\"\"\"\n",
        "8. Write a Pandas program to delete the 'attempts' column from the DataFrame.\n",
        "Sample Python dictionary data and list labels:\n",
        "exam_data = {'name': ['Anastasia', 'Dima', 'Katherine', 'James', 'Emily', 'Michael', 'Matthew', 'Laura', 'Kevin', 'Jonas'],\n",
        "'score': [12.5, 9, 16.5, np.nan, 9, 20, 14.5, np.nan, 8, 19],\n",
        "'attempts': [1, 3, 2, 3, 2, 3, 1, 1, 2, 1],\n",
        "'qualify': ['yes', 'no', 'yes', 'no', 'no', 'yes', 'yes', 'no', 'no', 'yes']}\n",
        "labels = ['a', 'b', 'c', 'd', 'e', 'f', 'g', 'h', 'i', 'j']\n",
        "Expected Output:\n",
        "Delete the 'attempts' column from the data frame:\n",
        "name qualify score\n",
        "a Anastasia yes 12.5\n",
        "b Dima no 9.0\n",
        ".....\n",
        "i Kevin no 8.0\n",
        "j Jonas yes 19.0\n",
        "\"\"\"\n",
        "\n",
        "df_no_attempts = df.drop('attempts', axis=1)\n",
        "print(df_no_attempts)"
      ],
      "metadata": {
        "colab": {
          "base_uri": "https://localhost:8080/"
        },
        "id": "nbZQvoiPlCC6",
        "outputId": "2b0e526b-0ab0-4dda-dbb4-a083ce345901"
      },
      "execution_count": 18,
      "outputs": [
        {
          "output_type": "stream",
          "name": "stdout",
          "text": [
            "        name  score qualify\n",
            "a  Anastasia   12.5     NaN\n",
            "b       Dima    9.0     NaN\n",
            "c  Katherine   16.5     NaN\n",
            "d     Suresh    NaN     NaN\n",
            "e      Emily    9.0     NaN\n",
            "f    Michael   20.0     NaN\n",
            "g    Matthew   14.5     NaN\n",
            "h      Laura    NaN     NaN\n",
            "i      Kevin    8.0     NaN\n",
            "j      Jonas   19.0     NaN\n"
          ]
        }
      ]
    },
    {
      "cell_type": "code",
      "source": [
        "\"\"\"9. Write a Pandas program to insert a new column in existing DataFrame. Go to the editor\n",
        "Sample Python dictionary data and list labels:\n",
        "exam_data = {'name': ['Anastasia', 'Dima', 'Katherine', 'James', 'Emily', 'Michael', 'Matthew', 'Laura', 'Kevin', 'Jonas'],\n",
        "'score': [12.5, 9, 16.5, np.nan, 9, 20, 14.5, np.nan, 8, 19],\n",
        "'attempts': [1, 3, 2, 3, 2, 3, 1, 1, 2, 1],\n",
        "'qualify': ['yes', 'no', 'yes', 'no', 'no', 'yes', 'yes', 'no', 'no', 'yes']}\n",
        "labels = ['a', 'b', 'c', 'd', 'e', 'f', 'g', 'h', 'i', 'j']\n",
        "Expected Output:\n",
        "New DataFrame after inserting the 'color' column\n",
        "attempts name qualify score color\n",
        "a 1 Anastasia yes 12.5 Red\n",
        "b 3 Dima no 9.0 Blue\n",
        ".......\n",
        "i 2 Kevin no 8.0 Green\n",
        "j 1 Jonas yes 19.0 Red\n",
        "\"\"\"\n",
        "\n",
        "df['color'] = ['Red', 'Blue', 'Green', 'Red', 'Pink',\n",
        "          'Orange', 'White', 'Black', 'Red', 'Green']\n",
        "print(df)"
      ],
      "metadata": {
        "colab": {
          "base_uri": "https://localhost:8080/"
        },
        "id": "Yql2edZnlL8_",
        "outputId": "262eb46b-e85b-406a-d69f-e2693a041f83"
      },
      "execution_count": 20,
      "outputs": [
        {
          "output_type": "stream",
          "name": "stdout",
          "text": [
            "        name  score  attempts qualify   color\n",
            "a  Anastasia   12.5         1     NaN     Red\n",
            "b       Dima    9.0         3     NaN    Blue\n",
            "c  Katherine   16.5         2     NaN   Green\n",
            "d     Suresh    NaN         3     NaN     Red\n",
            "e      Emily    9.0         2     NaN    Pink\n",
            "f    Michael   20.0         3     NaN  Orange\n",
            "g    Matthew   14.5         1     NaN   White\n",
            "h      Laura    NaN         1     NaN   Black\n",
            "i      Kevin    8.0         2     NaN     Red\n",
            "j      Jonas   19.0         1     NaN   Green\n"
          ]
        }
      ]
    },
    {
      "cell_type": "code",
      "source": [
        "\"\"\"\n",
        "10. Write a Pandas program to iterate over rows in a DataFrame. Go to the editor\n",
        "Sample Python dictionary data and list labels:\n",
        "exam_data = [{'name':'Anastasia', 'score':12.5}, {'name':'Dima','score':9}, {'name':'Katherine','score':16.5}]\n",
        "Expected Output:\n",
        "Anastasia 12.5\n",
        "Dima 9.0\n",
        "Katherine 16.5\n",
        "\"\"\"\n",
        "exam_data = [\n",
        "    {'name': 'Anastasia', 'score': 12.5},\n",
        "    {'name': 'Dima', 'score': 9},\n",
        "    {'name': 'Katherine', 'score': 16.5}\n",
        "]\n",
        "df = pd.DataFrame(exam_data)\n",
        "\n",
        "for index, row in df.iterrows():\n",
        "    print(row['name'], row['score'])"
      ],
      "metadata": {
        "colab": {
          "base_uri": "https://localhost:8080/"
        },
        "id": "K6WiupBUlbx_",
        "outputId": "651cb59a-c85c-4a41-ff37-226c2d947a8e"
      },
      "execution_count": 21,
      "outputs": [
        {
          "output_type": "stream",
          "name": "stdout",
          "text": [
            "Anastasia 12.5\n",
            "Dima 9.0\n",
            "Katherine 16.5\n"
          ]
        }
      ]
    },
    {
      "cell_type": "code",
      "source": [
        "\"\"\"\n",
        "11. Write a Pandas program to rename columns of a given DataFrame\n",
        "Sample data:\n",
        "Original DataFrame\n",
        "col1 col2 col3\n",
        "0 1 4 7\n",
        "1 2 5 8\n",
        "2 3 6 9\n",
        "New DataFrame after renaming columns:\n",
        "Column1 Column2 Column3\n",
        "0 1 4 7\n",
        "1 2 5 8\n",
        "2 3 6 9\n",
        "Click me to see the sample solution\n",
        "\"\"\"\n",
        "\n",
        "df = pd.DataFrame({\n",
        "    'col1': [1, 2, 3],\n",
        "    'col2': [4, 5, 6],\n",
        "    'col3': [7, 8, 9]\n",
        "})\n",
        "\n",
        "df.columns = ['Column1', 'Column2', 'Column3']\n",
        "print(df)"
      ],
      "metadata": {
        "colab": {
          "base_uri": "https://localhost:8080/"
        },
        "id": "9uhHQ9wkly0a",
        "outputId": "6c948102-bff7-4955-f38e-6a02ed90e55b"
      },
      "execution_count": 22,
      "outputs": [
        {
          "output_type": "stream",
          "name": "stdout",
          "text": [
            "   Column1  Column2  Column3\n",
            "0        1        4        7\n",
            "1        2        5        8\n",
            "2        3        6        9\n"
          ]
        }
      ]
    },
    {
      "cell_type": "code",
      "source": [
        "\"\"\"\n",
        "12. Write a Pandas program to select rows from a given DataFrame based on values in some columns.\n",
        "Sample data:\n",
        "Original DataFrame\n",
        "col1 col2 col3\n",
        "0 1 4 7\n",
        "1 4 5 8\n",
        "2 3 6 9\n",
        "3 4 7 0\n",
        "4 5 8 1\n",
        "Rows for colum1 value == 4\n",
        "col1 col2 col3\n",
        "1 4 5 8\n",
        "3 4 7 0\n",
        "\"\"\"\n",
        "\n",
        "df = pd.DataFrame({\n",
        "    'col1': [1, 4, 3, 4, 5],\n",
        "    'col2': [4, 5, 6, 7, 8],\n",
        "    'col3': [7, 8, 9, 0, 1]\n",
        "})\n",
        "\n",
        "print(df[df['col1'] == 4])"
      ],
      "metadata": {
        "colab": {
          "base_uri": "https://localhost:8080/"
        },
        "id": "Jkhs8v-Jl5Ad",
        "outputId": "0141ad2e-495d-4b29-891b-2cfe8f337564"
      },
      "execution_count": 23,
      "outputs": [
        {
          "output_type": "stream",
          "name": "stdout",
          "text": [
            "   col1  col2  col3\n",
            "1     4     5     8\n",
            "3     4     7     0\n"
          ]
        }
      ]
    },
    {
      "cell_type": "code",
      "source": [
        "\"\"\"\n",
        "13. Write a Pandas program to add one row in an existing DataFrame. Go to the editor\n",
        "Sample data:\n",
        "Original DataFrame\n",
        "col1 col2 col3\n",
        "0 1 4 7\n",
        "1 4 5 8\n",
        "2 3 6 9\n",
        "3 4 7 0\n",
        "4 5 8 1\n",
        "After add one row:\n",
        "col1 col2 col3\n",
        "0 1 4 7\n",
        "1 4 5 8\n",
        "2 3 6 9\n",
        "3 4 7 0\n",
        "4 5 8 1\n",
        "5 10 11 12\n",
        "\"\"\"\n",
        "new_row = {'col1': 10, 'col2': 11, 'col3': 12}\n",
        "df.loc[len(df)] = new_row\n",
        "print(df)"
      ],
      "metadata": {
        "colab": {
          "base_uri": "https://localhost:8080/"
        },
        "id": "bCqgT3BumAdA",
        "outputId": "8a1020ee-6b84-40e2-8937-949542e7d92b"
      },
      "execution_count": 28,
      "outputs": [
        {
          "output_type": "stream",
          "name": "stdout",
          "text": [
            "          city  Number of people\n",
            "0   California               4.0\n",
            "1      Georgia               2.0\n",
            "2  Los Angeles               4.0\n",
            "3          NaN               NaN\n",
            "4          NaN               NaN\n"
          ]
        }
      ]
    },
    {
      "cell_type": "code",
      "source": [
        "\"\"\"\n",
        "14. Write a Pandas program to count city wise number of people from a given of data set (city, name of the person).\n",
        "Sample data:\n",
        "city Number of people\n",
        "0 California 4\n",
        "1 Georgia 2\n",
        "2 Los Angeles 4\n",
        "\"\"\"\n",
        "data = {'city': ['California', 'Georgia', 'Los Angeles'],\n",
        "        'Number of people': [4, 2, 4]}\n",
        "\n",
        "df = pd.DataFrame(data)\n",
        "print(df)"
      ],
      "metadata": {
        "colab": {
          "base_uri": "https://localhost:8080/"
        },
        "id": "w4j-zmIDmPes",
        "outputId": "159a0180-ff42-4d89-9338-8ce4a0e86da5"
      },
      "execution_count": 25,
      "outputs": [
        {
          "output_type": "stream",
          "name": "stdout",
          "text": [
            "          city  Number of people\n",
            "0   California                 4\n",
            "1      Georgia                 2\n",
            "2  Los Angeles                 4\n"
          ]
        }
      ]
    },
    {
      "cell_type": "code",
      "source": [
        "\"\"\"\n",
        "15. Write a Pandas program to delete DataFrame row(s) based on given column value. Go to the editor\n",
        "Sample data:\n",
        "Original DataFrame\n",
        "col1 col2 col3\n",
        "0 1 4 7\n",
        "1 4 5 8\n",
        "2 3 6 9\n",
        "3 4 7 0\n",
        "4 5 8 1\n",
        "New DataFrame\n",
        "col1 col2 col3\n",
        "0 1 4 7\n",
        "2 3 6 9\n",
        "3 4 7 0\n",
        "4 5 8 1\n",
        "\"\"\"\n",
        "\n",
        "df = pd.DataFrame({\n",
        "    'col1': [1, 4, 3, 4, 5],\n",
        "    'col2': [4, 5, 6, 7, 8],\n",
        "    'col3': [7, 8, 9, 0, 1]\n",
        "})\n",
        "\n",
        "df = df.drop(df[df['col1'] == 5].index)\n",
        "print(df)"
      ],
      "metadata": {
        "colab": {
          "base_uri": "https://localhost:8080/"
        },
        "id": "qpHcidCWmYOj",
        "outputId": "f59826e8-ea20-4ca5-9ffe-2c5c45660517"
      },
      "execution_count": 29,
      "outputs": [
        {
          "output_type": "stream",
          "name": "stdout",
          "text": [
            "   col1  col2  col3\n",
            "0     1     4     7\n",
            "1     4     5     8\n",
            "2     3     6     9\n",
            "3     4     7     0\n"
          ]
        }
      ]
    },
    {
      "cell_type": "code",
      "source": [
        "\"\"\"\n",
        "16. Write a Pandas program to select a row of series/dataframe by given integer index.\n",
        "Sample data:\n",
        "Original DataFrame\n",
        "col1 col2 col3\n",
        "0 1 4 7\n",
        "1 4 5 8\n",
        "2 3 6 9\n",
        "3 4 7 0\n",
        "4 5 8 1\n",
        "Index-2: Details\n",
        "col1 col2 col3\n",
        "2 3 6 9\n",
        "\"\"\"\n",
        "\n",
        "print(df.iloc[2])"
      ],
      "metadata": {
        "colab": {
          "base_uri": "https://localhost:8080/"
        },
        "id": "DaUqO_0wnQXm",
        "outputId": "e1573b7a-98d7-4006-f4c8-7cc50101279f"
      },
      "execution_count": 30,
      "outputs": [
        {
          "output_type": "stream",
          "name": "stdout",
          "text": [
            "col1    3\n",
            "col2    6\n",
            "col3    9\n",
            "Name: 2, dtype: int64\n"
          ]
        }
      ]
    },
    {
      "cell_type": "code",
      "source": [
        "\"\"\"\n",
        "17. Write a Pandas program to replace all the NaN values with Zero's in a column of a dataframe.\n",
        "Sample data:\n",
        "Original DataFrame\n",
        "attempts name qualify score\n",
        "0 1 Anastasia yes 12.5\n",
        "1 3 Dima no 9.0\n",
        "2 2 Katherine yes 16.5\n",
        "3 3 James no NaN\n",
        "4 2 Emily no 9.0\n",
        "5 3 Michael yes 20.0\n",
        "6 1 Matthew yes 14.5\n",
        "7 1 Laura no NaN\n",
        "8 2 Kevin no 8.0\n",
        "9 1 Jonas yes 19.0\n",
        "New DataFrame replacing all NaN with 0:\n",
        "attempts name qualify score\n",
        "0 1 Anastasia yes 12.5\n",
        "1 3 Dima no 9.0\n",
        "2 2 Katherine yes 16.5\n",
        "3 3 James no 0.0\n",
        "4 2 Emily no 9.0\n",
        "5 3 Michael yes 20.0\n",
        "6 1 Matthew yes 14.5\n",
        "7 1 Laura no 0.0\n",
        "8 2 Kevin no 8.0\n",
        "9 1 Jonas yes 19.0\n",
        "\"\"\"\n",
        "df['score'] = df['score'].fillna(0)\n",
        "print(df)"
      ],
      "metadata": {
        "id": "p0tgryEtn48W"
      },
      "execution_count": null,
      "outputs": []
    },
    {
      "cell_type": "code",
      "source": [
        "\"\"\"\n",
        "18. Write a Pandas program to set a given value for particular cell in  DataFrame using index value. Go to the editor\n",
        "Sample data:\n",
        "Original DataFrame\n",
        "attempts name qualify score\n",
        "0 1 Anastasia yes 12.5\n",
        "1 3 Dima no 9.0\n",
        "2 2 Katherine yes 16.5\n",
        "3 3 James no NaN\n",
        "4 2 Emily no 9.0\n",
        "5 3 Michael yes 20.0\n",
        "6 1 Matthew yes 14.5\n",
        "7 1 Laura no NaN\n",
        "8 2 Kevin no 8.0\n",
        "9 1 Jonas yes 19.0\n",
        "Set a given value for particular cell in the DataFrame\n",
        "attempts name qualify score\n",
        "0 1 Anastasia yes 12.5\n",
        "1 3 Dima no 9.0\n",
        "2 2 Katherine yes 16.5\n",
        "3 3 James no NaN\n",
        "4 2 Emily no 9.0\n",
        "5 3 Michael yes 20.0\n",
        "6 1 Matthew yes 14.5\n",
        "7 1 Laura no NaN\n",
        "8 2 Kevin no 10.2\n",
        "9 1 Jonas yes 19.0\n",
        "\"\"\"\n",
        "\n",
        "exam_data = {\n",
        "    'name': ['Anastasia', 'Dima', 'Katherine', 'James', 'Emily',\n",
        "             'Michael', 'Matthew', 'Laura', 'Kevin', 'Jonas'],\n",
        "    'score': [12.5, 9, 16.5, np.nan, 9, 20, 14.5, np.nan, 8, 19],\n",
        "    'attempts': [1, 3, 2, 3, 2, 3, 1, 1, 2, 1],\n",
        "    'qualify': ['yes', 'no', 'yes', 'no', 'no',\n",
        "                'yes', 'yes', 'no', 'no', 'yes']\n",
        "}\n",
        "labels = range(10)\n",
        "df = pd.DataFrame(exam_data, index=labels)\n",
        "\n",
        "df.loc[8, 'score'] = 10.2\n",
        "print(df)"
      ],
      "metadata": {
        "colab": {
          "base_uri": "https://localhost:8080/"
        },
        "id": "auihfutcn60J",
        "outputId": "8f0309d1-a450-44c6-d9ea-79241d4e7cbd"
      },
      "execution_count": 34,
      "outputs": [
        {
          "output_type": "stream",
          "name": "stdout",
          "text": [
            "        name  score  attempts qualify\n",
            "0  Anastasia   12.5         1     yes\n",
            "1       Dima    9.0         3      no\n",
            "2  Katherine   16.5         2     yes\n",
            "3      James    NaN         3      no\n",
            "4      Emily    9.0         2      no\n",
            "5    Michael   20.0         3     yes\n",
            "6    Matthew   14.5         1     yes\n",
            "7      Laura    NaN         1      no\n",
            "8      Kevin   10.2         2      no\n",
            "9      Jonas   19.0         1     yes\n"
          ]
        }
      ]
    },
    {
      "cell_type": "code",
      "source": [
        "\"\"\"\n",
        "19. Write a Pandas program to count the NaN values in one or more columns in DataFrame. Go to the editor\n",
        "Sample data:\n",
        "Original DataFrame\n",
        "attempts name qualify score\n",
        "0 1 Anastasia yes 12.5\n",
        "1 3 Dima no 9.0\n",
        "2 2 Katherine yes 16.5\n",
        "3 3 James no NaN\n",
        "4 2 Emily no 9.0\n",
        "5 3 Michael yes 20.0\n",
        "6 1 Matthew yes 14.5\n",
        "7 1 Laura no NaN\n",
        "8 2 Kevin no 8.0\n",
        "9 1 Jonas yes 19.0\n",
        "Number of NaN values in one or more columns:2\n",
        "\"\"\"\n",
        "\n",
        "print(df.isna().sum())"
      ],
      "metadata": {
        "colab": {
          "base_uri": "https://localhost:8080/"
        },
        "id": "MtEWhPk-oyt1",
        "outputId": "e6b8e3c1-b08f-46f6-8c8f-742dc7b143b7"
      },
      "execution_count": 38,
      "outputs": [
        {
          "output_type": "stream",
          "name": "stdout",
          "text": [
            "name        0\n",
            "score       2\n",
            "attempts    0\n",
            "qualify     0\n",
            "dtype: int64\n"
          ]
        }
      ]
    },
    {
      "cell_type": "code",
      "source": [
        "\"\"\"\n",
        "20. Write a Pandas program to reset index in a given DataFrame. Go to the editor\n",
        "Sample data:\n",
        "Original DataFrame\n",
        "attempts name qualify score\n",
        "0 1 Anastasia yes 12.5\n",
        "1 3 Dima no 9.0\n",
        "2 2 Katherine yes 16.5\n",
        "3 3 James no NaN\n",
        "4 2 Emily no 9.0\n",
        "5 3 Michael yes 20.0\n",
        "6 1 Matthew yes 14.5\n",
        "7 1 Laura no NaN\n",
        "8 2 Kevin no 8.0\n",
        "9 1 Jonas yes 19.0\n",
        "\n",
        "After removing first and second rows\n",
        "attempts name qualify score\n",
        "2 2 Katherine yes 16.5\n",
        "3 3 James no NaN\n",
        "4 2 Emily no 9.0\n",
        "5 3 Michael yes 20.0\n",
        "6 1 Matthew yes 14.5\n",
        "7 1 Laura no NaN\n",
        "8 2 Kevin no 8.0\n",
        "9 1 Jonas yes 19.0\n",
        "\n",
        "Reset the Index:\n",
        "index attempts name qualify score\n",
        "0 2 2 Katherine yes 16.5\n",
        "1 3 3 James no NaN\n",
        "2 4 2 Emily no 9.0\n",
        "3 5 3 Michael yes 20.0\n",
        "4 6 1 Matthew yes 14.5\n",
        "5 7 1 Laura no NaN\n",
        "6 8 2 Kevin no 8.0\n",
        "7 9 1 Jonas yes 19.0\n",
        "\"\"\"\n",
        "exam_data = {\n",
        "    'name': ['Anastasia', 'Dima', 'Katherine', 'James', 'Emily',\n",
        "             'Michael', 'Matthew', 'Laura', 'Kevin', 'Jonas'],\n",
        "    'score': [12.5, 9, 16.5, np.nan, 9, 20, 14.5, np.nan, 8, 19],\n",
        "    'attempts': [1, 3, 2, 3, 2, 3, 1, 1, 2, 1],\n",
        "    'qualify': ['yes', 'no', 'yes', 'no', 'no',\n",
        "                'yes', 'yes', 'no', 'no', 'yes']\n",
        "}\n",
        "labels = range(10)\n",
        "df = pd.DataFrame(exam_data, index=labels)\n",
        "\n",
        "df = df.drop([0, 1])\n",
        "df_reset = df.reset_index()\n",
        "print(df_reset)"
      ],
      "metadata": {
        "colab": {
          "base_uri": "https://localhost:8080/"
        },
        "id": "WjxcwnenpQ6T",
        "outputId": "73540b86-54f2-4ae3-97fa-0fa4147061bc"
      },
      "execution_count": 45,
      "outputs": [
        {
          "output_type": "stream",
          "name": "stdout",
          "text": [
            "   index       name  score  attempts qualify\n",
            "0      2  Katherine   16.5         2     yes\n",
            "1      3      James    NaN         3      no\n",
            "2      4      Emily    9.0         2      no\n",
            "3      5    Michael   20.0         3     yes\n",
            "4      6    Matthew   14.5         1     yes\n",
            "5      7      Laura    NaN         1      no\n",
            "6      8      Kevin    8.0         2      no\n",
            "7      9      Jonas   19.0         1     yes\n"
          ]
        }
      ]
    },
    {
      "cell_type": "code",
      "source": [
        "\"\"\"\n",
        "21. Write a Pandas program to merge two given dataframes with different columns.\n",
        "Test Data:\n",
        "data1:\n",
        "  key1 key2   P   Q\n",
        "0   K0   K0  P0  Q0\n",
        "1   K0   K1  P1  Q1\n",
        "2   K1   K0  P2  Q2\n",
        "3   K2   K1  P3  Q3\n",
        "data2:\n",
        "  key1 key2   R   S\n",
        "0   K0   K0  R0  S0\n",
        "1   K1   K0  R1  S1\n",
        "2   K1   K0  R2  S2\n",
        "3   K2   K0  R3  S3\n",
        "\"\"\"\n",
        "\n",
        "import pandas as pd\n",
        "\n",
        "data1 = {\n",
        "    'key1': ['K0', 'K0', 'K1', 'K2'],\n",
        "    'key2': ['K0', 'K1', 'K0', 'K1'],\n",
        "    'P': ['P0', 'P1', 'P2', 'P3'],\n",
        "    'Q': ['Q0', 'Q1', 'Q2', 'Q3']\n",
        "}\n",
        "df1 = pd.DataFrame(data1)\n",
        "\n",
        "data2 = {\n",
        "    'key1': ['K0', 'K1', 'K1', 'K2'],\n",
        "    'key2': ['K0', 'K0', 'K0', 'K0'],\n",
        "    'R': ['R0', 'R1', 'R2', 'R3'],\n",
        "    'S': ['S0', 'S1', 'S2', 'S3']\n",
        "}\n",
        "df2 = pd.DataFrame(data2)\n",
        "\n",
        "merged_df = pd.merge(df1, df2, on=['key1', 'key2'], how='outer')  # Outer to get all rows from the two dataframes\n",
        "print(merged_df)"
      ],
      "metadata": {
        "colab": {
          "base_uri": "https://localhost:8080/"
        },
        "id": "aPn2o9IyrOW1",
        "outputId": "0a49c8ef-ca35-4988-a988-a4e2daf6e435"
      },
      "execution_count": 46,
      "outputs": [
        {
          "output_type": "stream",
          "name": "stdout",
          "text": [
            "  key1 key2    P    Q    R    S\n",
            "0   K0   K0   P0   Q0   R0   S0\n",
            "1   K0   K1   P1   Q1  NaN  NaN\n",
            "2   K1   K0   P2   Q2   R1   S1\n",
            "3   K1   K0   P2   Q2   R2   S2\n",
            "4   K2   K0  NaN  NaN   R3   S3\n",
            "5   K2   K1   P3   Q3  NaN  NaN\n"
          ]
        }
      ]
    },
    {
      "cell_type": "code",
      "source": [
        "\"\"\"\n",
        "22. Write a Pandas program to Combine two DataFrame objects by filling null values in one DataFrame with non-null values from other DataFrame. Go to the editor\n",
        "Test Data:\n",
        "Original DataFrames:\n",
        "     A  B\n",
        "0  NaN  3\n",
        "1  0.0  4\n",
        "2  NaN  5\n",
        "\n",
        "   A    B\n",
        "0  1  3.0\n",
        "1  1  NaN\n",
        "2  3  3.0\n",
        "\"\"\"\n",
        "\n",
        "import pandas as pd\n",
        "import numpy as np\n",
        "\n",
        "df1 = pd.DataFrame({\n",
        "    'A': [np.nan, 0.0, np.nan],\n",
        "    'B': [3, 4, 5]\n",
        "})\n",
        "\n",
        "df2 = pd.DataFrame({\n",
        "    'A': [1, 1, 3],\n",
        "    'B': [3.0, np.nan, 3.0]\n",
        "})\n",
        "\n",
        "# combined_df = df1.combine_first(df2)\n",
        "combined_df = df1.fillna(df2)\n",
        "print(combined_df)"
      ],
      "metadata": {
        "colab": {
          "base_uri": "https://localhost:8080/"
        },
        "id": "IDN2rNxDrrVs",
        "outputId": "67547928-b9b2-4369-d6a0-150cfedd7665"
      },
      "execution_count": 50,
      "outputs": [
        {
          "output_type": "stream",
          "name": "stdout",
          "text": [
            "     A  B\n",
            "0  1.0  3\n",
            "1  0.0  4\n",
            "2  3.0  5\n"
          ]
        }
      ]
    },
    {
      "cell_type": "code",
      "source": [
        "\"\"\"\n",
        "23. Write a Pandas program to combine the columns of two potentially differently-indexed DataFrames into a single result DataFrame.\n",
        "Test Data:\n",
        "data1:\n",
        "     A   B\n",
        "K0  A0  B0\n",
        "K1  A1  B1\n",
        "K2  A2  B2\n",
        "\n",
        "data2:\n",
        "     C   D\n",
        "K0  C0  D0\n",
        "K2  C2  D2\n",
        "K3  C3  D3\n",
        "\"\"\"\n",
        "\n",
        "data1 = {\n",
        "    'A': ['A0', 'A1', 'A2'],\n",
        "    'B': ['B0', 'B1', 'B2']\n",
        "}\n",
        "df1 = pd.DataFrame(data1, index=['K0', 'K1', 'K2'])\n",
        "\n",
        "data2 = {\n",
        "    'C': ['C0', 'C2', 'C3'],\n",
        "    'D': ['D0', 'D2', 'D3']\n",
        "}\n",
        "df2 = pd.DataFrame(data2, index=['K0', 'K2', 'K3'])\n",
        "\n",
        "combined_df = pd.concat([df1, df2], axis=1) #axis=1 to use the index row\n",
        "print(combined_df)"
      ],
      "metadata": {
        "colab": {
          "base_uri": "https://localhost:8080/"
        },
        "id": "bMqiSlFUsUvC",
        "outputId": "3e48c64b-449d-40ef-82bc-cadee970d948"
      },
      "execution_count": 51,
      "outputs": [
        {
          "output_type": "stream",
          "name": "stdout",
          "text": [
            "      A    B    C    D\n",
            "K0   A0   B0   C0   D0\n",
            "K1   A1   B1  NaN  NaN\n",
            "K2   A2   B2   C2   D2\n",
            "K3  NaN  NaN   C3   D3\n"
          ]
        }
      ]
    },
    {
      "cell_type": "code",
      "source": [
        "\"\"\"\n",
        "24. Write a Pandas program to join (left join) the two dataframes using keys from left dataframe only. Go to the editor\n",
        "Test Data:\n",
        "data1:\n",
        "  key1 key2   P   Q\n",
        "0   K0   K0  P0  Q0\n",
        "1   K0   K1  P1  Q1\n",
        "2   K1   K0  P2  Q2\n",
        "3   K2   K1  P3  Q3\n",
        "data2:\n",
        "  key1 key2   R   S\n",
        "0   K0   K0  R0  S0\n",
        "1   K1   K0  R1  S1\n",
        "2   K1   K0  R2  S2\n",
        "3   K2   K0  R3  S3\n",
        "\"\"\"\n",
        "data1 = {\n",
        "    'key1': ['K0', 'K0', 'K1', 'K2'],\n",
        "    'key2': ['K0', 'K1', 'K0', 'K1'],\n",
        "    'P': ['P0', 'P1', 'P2', 'P3'],\n",
        "    'Q': ['Q0', 'Q1', 'Q2', 'Q3']\n",
        "}\n",
        "df1 = pd.DataFrame(data1)\n",
        "\n",
        "data2 = {\n",
        "    'key1': ['K0', 'K1', 'K1', 'K2'],\n",
        "    'key2': ['K0', 'K0', 'K0', 'K0'],\n",
        "    'R': ['R0', 'R1', 'R2', 'R3'],\n",
        "    'S': ['S0', 'S1', 'S2', 'S3']\n",
        "}\n",
        "df2 = pd.DataFrame(data2)\n",
        "\n",
        "merged_df = pd.merge(df1, df2, how='left', on=['key1', 'key2']) #left join, using keys\n",
        "print(merged_df)"
      ],
      "metadata": {
        "colab": {
          "base_uri": "https://localhost:8080/"
        },
        "id": "zzPwwa7lsmfb",
        "outputId": "5d6ef709-f964-40a8-c272-e4053f8e8a9d"
      },
      "execution_count": 52,
      "outputs": [
        {
          "output_type": "stream",
          "name": "stdout",
          "text": [
            "  key1 key2   P   Q    R    S\n",
            "0   K0   K0  P0  Q0   R0   S0\n",
            "1   K0   K1  P1  Q1  NaN  NaN\n",
            "2   K1   K0  P2  Q2   R1   S1\n",
            "3   K1   K0  P2  Q2   R2   S2\n",
            "4   K2   K1  P3  Q3  NaN  NaN\n"
          ]
        }
      ]
    },
    {
      "cell_type": "code",
      "source": [
        "\"\"\"\n",
        "25. Write a Pandas program to find and drop the missing values from World alcohol consumption dataset.\n",
        "Test Data:\n",
        "   Year       WHO region                Country Beverage Types  Display Value\n",
        "0  1986  Western Pacific               Viet Nam           Wine           0.00\n",
        "1  1986         Americas                Uruguay          Other           0.50\n",
        "2  1985           Africa           Cte d'Ivoire           Wine           1.62\n",
        "3  1986         Americas               Colombia           Beer           4.27\n",
        "4  1987         Americas  Saint Kitts and Nevis           Beer           1.98\n",
        "\"\"\"\n",
        "\n",
        "data = {\n",
        "    'Year': [1986, 1986, 1985, 1986, 1987],\n",
        "    'WHO region': ['Western Pacific', 'Americas', 'Africa', 'Americas', 'Americas'],\n",
        "    'Country': ['Viet Nam', 'Uruguay', \"Cte d'Ivoire\", 'Colombia', 'Saint Kitts and Nevis'],\n",
        "    'Beverage Types': ['Wine', 'Other', 'Wine', 'Beer', 'Beer'],\n",
        "    'Display Value': [0.00, 0.50, 1.62, 4.27, 1.98]\n",
        "}\n",
        "\n",
        "df = pd.DataFrame(data)\n",
        "df_cleaned = df.dropna()\n",
        "print(df_cleaned)"
      ],
      "metadata": {
        "id": "FvHUg8RYCAhX",
        "colab": {
          "base_uri": "https://localhost:8080/"
        },
        "outputId": "25b0b578-76eb-4ed6-c07a-dfbd41ff7b26"
      },
      "execution_count": 54,
      "outputs": [
        {
          "output_type": "stream",
          "name": "stdout",
          "text": [
            "   Year       WHO region                Country Beverage Types  Display Value\n",
            "0  1986  Western Pacific               Viet Nam           Wine           0.00\n",
            "1  1986         Americas                Uruguay          Other           0.50\n",
            "2  1985           Africa           Cte d'Ivoire           Wine           1.62\n",
            "3  1986         Americas               Colombia           Beer           4.27\n",
            "4  1987         Americas  Saint Kitts and Nevis           Beer           1.98\n"
          ]
        }
      ]
    },
    {
      "cell_type": "code",
      "source": [
        "\"\"\"\n",
        "26. Write a Pandas program to select first 2 rows, 2 columns and specific two columns from World alcohol consumption dataset. Go to the editor\n",
        "Test Data:\n",
        "   Year       WHO region                Country Beverage Types  Display Value\n",
        "0  1986  Western Pacific               Viet Nam           Wine           0.00\n",
        "1  1986         Americas                Uruguay          Other           0.50\n",
        "2  1985           Africa           Cte d'Ivoire           Wine           1.62\n",
        "3  1986         Americas               Colombia           Beer           4.27\n",
        "4  1987         Americas  Saint Kitts and Nevis           Beer           1.98\n",
        "\"\"\"\n",
        "# First two rows and first two columns\n",
        "first_2_rows_2_cols = df.iloc[:2, :2]\n",
        "print(\"\\nFirst 2 rows and first 2 columns:\")\n",
        "print(first_2_rows_2_cols)\n",
        "\n",
        "# Select specific two columns (for example, 'Country' and 'Display Value')\n",
        "specific_columns = df[['Country', 'Beverage Types']]\n",
        "print(\"\\nSpecific columns: \\n\" , specific_columns)"
      ],
      "metadata": {
        "colab": {
          "base_uri": "https://localhost:8080/"
        },
        "id": "CUMawYg6tQ-Z",
        "outputId": "3c60218b-1f46-4a3e-9188-8274a829cd2d"
      },
      "execution_count": 57,
      "outputs": [
        {
          "output_type": "stream",
          "name": "stdout",
          "text": [
            "\n",
            "First 2 rows and first 2 columns:\n",
            "   Year       WHO region\n",
            "0  1986  Western Pacific\n",
            "1  1986         Americas\n",
            "\n",
            "Specific columns: \n",
            "                  Country Beverage Types\n",
            "0               Viet Nam           Wine\n",
            "1                Uruguay          Other\n",
            "2           Cte d'Ivoire           Wine\n",
            "3               Colombia           Beer\n",
            "4  Saint Kitts and Nevis           Beer\n"
          ]
        }
      ]
    },
    {
      "cell_type": "markdown",
      "source": [
        "# **Pandas Grouping and Aggregating Tasks:**"
      ],
      "metadata": {
        "id": "MvRUDK3qWOHx"
      }
    },
    {
      "cell_type": "code",
      "source": [
        "\"\"\"\n",
        "Test Data:\n",
        "   school class            name date_Of_Birth   age  height  weight  address\n",
        "S1   s001     V  Alberto Franco     15/05/2002   12    173      35  street1\n",
        "S2   s002     V    Gino Mcneill     17/05/2002   12    192      32  street2\n",
        "S3   s003    VI     Ryan Parkes     16/02/1999   13    186      33  street3\n",
        "S4   s001    VI    Eesha Hinton     25/09/1998   13    167      30  street1\n",
        "S5   s002     V    Gino Mcneill     11/05/2002   14    151      31  street2\n",
        "S6   s004    VI    David Parkes     15/09/1997   12    159      32  street4\n",
        "\"\"\"\n",
        "\n",
        "import pandas as pd\n",
        "\n",
        "data = {\n",
        "    'school': ['s001', 's002', 's003', 's001', 's002', 's004'],\n",
        "    'class': ['V', 'V', 'VI', 'VI', 'V', 'VI'],\n",
        "    'name': ['Alberto Franco', 'Gino Mcneill', 'Ryan Parkes', 'Eesha Hinton', 'Gino Mcneill', 'David Parkes'],\n",
        "    'date_Of_Birth': ['15/05/2002', '17/05/2002', '16/02/1999', '25/09/1998', '11/05/2002', '15/09/1997'],\n",
        "    'age': [12, 12, 13, 13, 14, 12],\n",
        "    'height': [173, 192, 186, 167, 151, 159],\n",
        "    'weight': [35, 32, 33, 30, 31, 32],\n",
        "    'address': ['street1', 'street2', 'street3', 'street1', 'street2', 'street4']\n",
        "}\n",
        "df = pd.DataFrame(data, index=['S1','S2','S3','S4','S5','S6'])"
      ],
      "metadata": {
        "id": "dDOhO2-tt366"
      },
      "execution_count": 61,
      "outputs": []
    },
    {
      "cell_type": "code",
      "source": [
        "# 1. Write a Pandas program to split the following dataframe into groups based on school code. Also check the type of GroupBy object.\n",
        "\n",
        "# Group by school\n",
        "grouped = df.groupby('school')\n",
        "\n",
        "# Check type\n",
        "print(type(grouped))\n",
        "\n",
        "# Show groups\n",
        "for name, group in grouped:\n",
        "    print(f\"Group name: {name}\")\n",
        "    print(group, end=\"\\n\\n\")"
      ],
      "metadata": {
        "id": "-4iIEXwBWRvs",
        "colab": {
          "base_uri": "https://localhost:8080/"
        },
        "outputId": "a66ea76c-d7f8-47c4-9383-be89fd4fbfc6"
      },
      "execution_count": 62,
      "outputs": [
        {
          "output_type": "stream",
          "name": "stdout",
          "text": [
            "<class 'pandas.core.groupby.generic.DataFrameGroupBy'>\n",
            "Group name: s001\n",
            "   school class            name date_Of_Birth  age  height  weight  address\n",
            "S1   s001     V  Alberto Franco    15/05/2002   12     173      35  street1\n",
            "S4   s001    VI    Eesha Hinton    25/09/1998   13     167      30  street1\n",
            "\n",
            "Group name: s002\n",
            "   school class          name date_Of_Birth  age  height  weight  address\n",
            "S2   s002     V  Gino Mcneill    17/05/2002   12     192      32  street2\n",
            "S5   s002     V  Gino Mcneill    11/05/2002   14     151      31  street2\n",
            "\n",
            "Group name: s003\n",
            "   school class         name date_Of_Birth  age  height  weight  address\n",
            "S3   s003    VI  Ryan Parkes    16/02/1999   13     186      33  street3\n",
            "\n",
            "Group name: s004\n",
            "   school class          name date_Of_Birth  age  height  weight  address\n",
            "S6   s004    VI  David Parkes    15/09/1997   12     159      32  street4\n",
            "\n"
          ]
        }
      ]
    },
    {
      "cell_type": "code",
      "source": [
        "#2. Write a Pandas program to split the following dataframe by school code and get mean, min, and max value of age for each school.\n",
        "age = df.groupby('school')['age'].agg(['mean', 'min', 'max'])\n",
        "print(age)"
      ],
      "metadata": {
        "colab": {
          "base_uri": "https://localhost:8080/"
        },
        "id": "bnQDpMdQua9i",
        "outputId": "c75df4b9-be6c-412e-8bf0-f13d28f0b716"
      },
      "execution_count": 63,
      "outputs": [
        {
          "output_type": "stream",
          "name": "stdout",
          "text": [
            "        mean  min  max\n",
            "school                \n",
            "s001    12.5   12   13\n",
            "s002    13.0   12   14\n",
            "s003    13.0   13   13\n",
            "s004    12.0   12   12\n"
          ]
        }
      ]
    },
    {
      "cell_type": "code",
      "source": [
        "#3. Write a Pandas program to split the following given dataframe into groups based on school code and class. Go to the editor\n",
        "grouped = df.groupby(['school', 'class'])\n",
        "for name, group in grouped:\n",
        "    print(f\"Group name: {name}\")\n",
        "    print(group, end=\"\\n\\n\")"
      ],
      "metadata": {
        "colab": {
          "base_uri": "https://localhost:8080/"
        },
        "id": "Yko7PMqwuq9s",
        "outputId": "89b1588a-7e24-474e-ca96-cd7f42fc0d3f"
      },
      "execution_count": 64,
      "outputs": [
        {
          "output_type": "stream",
          "name": "stdout",
          "text": [
            "Group name: ('s001', 'V')\n",
            "   school class            name date_Of_Birth  age  height  weight  address\n",
            "S1   s001     V  Alberto Franco    15/05/2002   12     173      35  street1\n",
            "\n",
            "Group name: ('s001', 'VI')\n",
            "   school class          name date_Of_Birth  age  height  weight  address\n",
            "S4   s001    VI  Eesha Hinton    25/09/1998   13     167      30  street1\n",
            "\n",
            "Group name: ('s002', 'V')\n",
            "   school class          name date_Of_Birth  age  height  weight  address\n",
            "S2   s002     V  Gino Mcneill    17/05/2002   12     192      32  street2\n",
            "S5   s002     V  Gino Mcneill    11/05/2002   14     151      31  street2\n",
            "\n",
            "Group name: ('s003', 'VI')\n",
            "   school class         name date_Of_Birth  age  height  weight  address\n",
            "S3   s003    VI  Ryan Parkes    16/02/1999   13     186      33  street3\n",
            "\n",
            "Group name: ('s004', 'VI')\n",
            "   school class          name date_Of_Birth  age  height  weight  address\n",
            "S6   s004    VI  David Parkes    15/09/1997   12     159      32  street4\n",
            "\n"
          ]
        }
      ]
    },
    {
      "cell_type": "code",
      "source": [
        "#4. Write a Pandas program to split the following given dataframe into groups based on single column and multiple columns. Find the size of the grouped data. Go to the editor\n",
        "\n",
        "\n",
        "# Group by single column 'school' and get group size\n",
        "size_by_school = df.groupby('school').size()\n",
        "print(\"Group size by school: \\n\", size_by_school)\n",
        "\n",
        "# Group by multiple columns 'school' and 'class' and get group size\n",
        "size_by_school_class = df.groupby(['school', 'class']).size()\n",
        "print(\"Group size by school and class: \\n\" , size_by_school_class)\n"
      ],
      "metadata": {
        "colab": {
          "base_uri": "https://localhost:8080/"
        },
        "id": "f_zlgq29uvIT",
        "outputId": "b085dedf-dac7-45b1-af7a-075dde7be882"
      },
      "execution_count": 66,
      "outputs": [
        {
          "output_type": "stream",
          "name": "stdout",
          "text": [
            "Group size by school: \n",
            " school\n",
            "s001    2\n",
            "s002    2\n",
            "s003    1\n",
            "s004    1\n",
            "dtype: int64\n",
            "Group size by school and class: \n",
            " school  class\n",
            "s001    V        1\n",
            "        VI       1\n",
            "s002    V        2\n",
            "s003    VI       1\n",
            "s004    VI       1\n",
            "dtype: int64\n"
          ]
        }
      ]
    },
    {
      "cell_type": "code",
      "source": [
        "\"\"\"\n",
        "Test Data:\n",
        "\n",
        "    ord_no  purch_amt    ord_date  customer_id  salesman_id\n",
        "0    70001     150.50  2012-10-05         3005         5002\n",
        "1    70009     270.65  2012-09-10         3001         5005\n",
        "2    70002      65.26  2012-10-05         3002         5001\n",
        "3    70004     110.50  2012-08-17         3009         5003\n",
        "4    70007     948.50  2012-09-10         3005         5002\n",
        "5    70005    2400.60  2012-07-27         3007         5001\n",
        "6    70008    5760.00  2012-09-10         3002         5001\n",
        "7    70010    1983.43  2012-10-10         3004         5006\n",
        "8    70003    2480.40  2012-10-10         3009         5003\n",
        "9    70012     250.45  2012-06-27         3008         5002\n",
        "10   70011      75.29  2012-08-17         3003         5007\n",
        "11   70013    3045.60  2012-04-25         3002         5001\n",
        "\"\"\"\n",
        "\n",
        "data2 = {\n",
        "    'ord_no': [70001, 70009, 70002, 70004, 70007, 70005, 70008, 70010, 70003, 70012, 70011, 70013],\n",
        "    'purch_amt': [150.50, 270.65, 65.26, 110.50, 948.50, 2400.60, 5760.00, 1983.43, 2480.40, 250.45, 75.29, 3045.60],\n",
        "    'ord_date': ['2012-10-05', '2012-09-10', '2012-10-05', '2012-08-17', '2012-09-10', '2012-07-27',\n",
        "                 '2012-09-10', '2012-10-10', '2012-10-10', '2012-06-27', '2012-08-17', '2012-04-25'],\n",
        "    'customer_id': [3005, 3001, 3002, 3009, 3005, 3007, 3002, 3004, 3009, 3008, 3003, 3002],\n",
        "    'salesman_id': [5002, 5005, 5001, 5003, 5002, 5001, 5001, 5006, 5003, 5002, 5007, 5001]\n",
        "}\n",
        "df2 = pd.DataFrame(data2)\n",
        "\n",
        "print(df2)"
      ],
      "metadata": {
        "colab": {
          "base_uri": "https://localhost:8080/"
        },
        "id": "1h6py4_ruDTx",
        "outputId": "70247df0-3bf8-424e-fba4-1f789ede2016"
      },
      "execution_count": 68,
      "outputs": [
        {
          "output_type": "stream",
          "name": "stdout",
          "text": [
            "    ord_no  purch_amt    ord_date  customer_id  salesman_id\n",
            "0    70001     150.50  2012-10-05         3005         5002\n",
            "1    70009     270.65  2012-09-10         3001         5005\n",
            "2    70002      65.26  2012-10-05         3002         5001\n",
            "3    70004     110.50  2012-08-17         3009         5003\n",
            "4    70007     948.50  2012-09-10         3005         5002\n",
            "5    70005    2400.60  2012-07-27         3007         5001\n",
            "6    70008    5760.00  2012-09-10         3002         5001\n",
            "7    70010    1983.43  2012-10-10         3004         5006\n",
            "8    70003    2480.40  2012-10-10         3009         5003\n",
            "9    70012     250.45  2012-06-27         3008         5002\n",
            "10   70011      75.29  2012-08-17         3003         5007\n",
            "11   70013    3045.60  2012-04-25         3002         5001\n"
          ]
        }
      ]
    },
    {
      "cell_type": "code",
      "source": [
        "# 5. Write a Pandas program to split a dataset to group by two columns and count by each row.\n",
        "\n",
        "grouped_count = df2.groupby(['customer_id', 'salesman_id']).size().reset_index(name='counts') ## Group by two columns and count rows in each group\n",
        "print(grouped_count)"
      ],
      "metadata": {
        "colab": {
          "base_uri": "https://localhost:8080/"
        },
        "id": "u-8593Q0vGXQ",
        "outputId": "ac5d2d3d-ce1a-4d1f-af72-7a4d69ca5b1a"
      },
      "execution_count": 69,
      "outputs": [
        {
          "output_type": "stream",
          "name": "stdout",
          "text": [
            "   customer_id  salesman_id  counts\n",
            "0         3001         5005       1\n",
            "1         3002         5001       3\n",
            "2         3003         5007       1\n",
            "3         3004         5006       1\n",
            "4         3005         5002       2\n",
            "5         3007         5001       1\n",
            "6         3008         5002       1\n",
            "7         3009         5003       2\n"
          ]
        }
      ]
    },
    {
      "cell_type": "code",
      "source": [
        "# 6. Write a Pandas program to split a dataset to group by two columns and then sort the aggregated results within the groups.\n",
        "# In the following dataset group on 'customer_id', 'salesman_id' and then sort sum of purch_amt within the groups.\n",
        "\n",
        "# Group by customer_id and salesman_id and sum purch_amt\n",
        "grouped_col = df2.groupby(['customer_id', 'salesman_id'])\n",
        "grouped_sum = grouped_col['purch_amt'].sum().reset_index()\n",
        "sorted_group = grouped_sum.sort_values(by=['customer_id', 'purch_amt'], ascending=[True, False])\n",
        "print(sorted_group)"
      ],
      "metadata": {
        "colab": {
          "base_uri": "https://localhost:8080/"
        },
        "id": "wmDJgQeHva8I",
        "outputId": "781c5c54-e28c-4e0a-b649-0e0b38df02a1"
      },
      "execution_count": 72,
      "outputs": [
        {
          "output_type": "stream",
          "name": "stdout",
          "text": [
            "   customer_id  salesman_id  purch_amt\n",
            "0         3001         5005     270.65\n",
            "1         3002         5001    8870.86\n",
            "2         3003         5007      75.29\n",
            "3         3004         5006    1983.43\n",
            "4         3005         5002    1099.00\n",
            "5         3007         5001    2400.60\n",
            "6         3008         5002     250.45\n",
            "7         3009         5003    2590.90\n"
          ]
        }
      ]
    },
    {
      "cell_type": "code",
      "source": [
        "\"\"\"\n",
        "7. Write a Pandas program to split the following dataset using group by on first column and aggregate over multiple lists on second column. Go to the editor\n",
        "Test Data:\n",
        "  student_id         marks\n",
        "0       S001  [88, 89, 90]\n",
        "1       S001  [78, 81, 60]\n",
        "2       S002  [84, 83, 91]\n",
        "3       S002  [84, 88, 91]\n",
        "4       S003  [90, 89, 92]\n",
        "5       S003  [88, 59, 90]\n",
        "Output:\n",
        "student_id\n",
        "S001 [83.0, 85.0, 75.0]\n",
        "S002 [84.0, 85.5, 91.0]\n",
        "S003 [89.0, 74.0, 91.0]\n",
        "\"\"\"\n",
        "# grouping by student_id and calculating the mean of each position in a list column\n",
        "\n",
        "data = {\n",
        "    'student_id': ['S001', 'S002', 'S003'],\n",
        "    'marks': [[80, 90, 70], [70, 80, 60], [60, 70, 90]]\n",
        "}\n",
        "\n",
        "df = pd.DataFrame(data)\n",
        "\n",
        "df['mark1'] = df['marks'].apply(lambda x: x[0])\n",
        "df['mark2'] = df['marks'].apply(lambda x: x[1])\n",
        "df['mark3'] = df['marks'].apply(lambda x: x[2])\n",
        "\n",
        "grouped = df.groupby('student_id')[['mark1', 'mark2', 'mark3']].mean().reset_index()\n",
        "grouped['average marks'] = grouped[['mark1', 'mark2', 'mark3']].values.tolist()\n",
        "print(grouped[['student_id', 'average marks']])"
      ],
      "metadata": {
        "colab": {
          "base_uri": "https://localhost:8080/"
        },
        "id": "wA7k3G1xv22g",
        "outputId": "487cce48-0ae7-4fc4-96d7-84403a4a459e"
      },
      "execution_count": 85,
      "outputs": [
        {
          "output_type": "stream",
          "name": "stdout",
          "text": [
            "  student_id       average marks\n",
            "0       S001  [80.0, 90.0, 70.0]\n",
            "1       S002  [70.0, 80.0, 60.0]\n",
            "2       S003  [60.0, 70.0, 90.0]\n"
          ]
        }
      ]
    },
    {
      "cell_type": "code",
      "source": [
        "\"\"\"\n",
        "8. Write a Pandas program to split a dataset, group by one column and get mean, min, and max values by group, also change the column name of the aggregated metric.\n",
        "Using the following dataset find the mean, min, and max values of purchase amount (purch_amt) group by customer id (customer_id).\n",
        "\"\"\"\n",
        "data = {\n",
        "    'customer_id': ['C001', 'C002', 'C001', 'C003', 'C002', 'C001'],\n",
        "    'purch_amt': [1000, 1500, 1200, 1700, 1600, 1100]\n",
        "}\n",
        "df = pd.DataFrame(data)\n",
        "\n",
        "agg_result = df.groupby('customer_id')['purch_amt'].agg('mean', 'min', 'max').reset_index()\n",
        "print(agg_result)"
      ],
      "metadata": {
        "colab": {
          "base_uri": "https://localhost:8080/"
        },
        "id": "0KviED2Hx2vQ",
        "outputId": "15ed432b-c83e-4945-80b2-a2eb22cd940c"
      },
      "execution_count": 87,
      "outputs": [
        {
          "output_type": "stream",
          "name": "stdout",
          "text": [
            "  customer_id  purch_amt\n",
            "0        C001     1100.0\n",
            "1        C002     1550.0\n",
            "2        C003     1700.0\n"
          ]
        }
      ]
    },
    {
      "cell_type": "code",
      "source": [
        "\"\"\"\n",
        "9. Write a Pandas program to identify the column(s) of a given DataFrame which have at least one missing value.\n",
        "Test Data:\n",
        "     ord_no  purch_amt    ord_date  customer_id  salesman_id\n",
        "0   70001.0     150.50  2012-10-05         3002       5002.0\n",
        "1       NaN     270.65  2012-09-10         3001       5003.0\n",
        "2   70002.0      65.26         NaN         3001       5001.0\n",
        "3   70004.0     110.50  2012-08-17         3003          NaN\n",
        "4       NaN     948.50  2012-09-10         3002       5002.0\n",
        "5   70005.0    2400.60  2012-07-27         3001       5001.0\n",
        "6       NaN    5760.00  2012-09-10         3001       5001.0\n",
        "7   70010.0    1983.43  2012-10-10         3004          NaN\n",
        "8   70003.0    2480.40  2012-10-10         3003       5003.0\n",
        "9   70012.0     250.45  2012-06-27         3002       5002.0\n",
        "10      NaN      75.29  2012-08-17         3001       5003.0\n",
        "11  70013.0    3045.60  2012-04-25         3001          NaN\n",
        "\"\"\"\n",
        "\n",
        "#df2 defined above\n",
        "\n",
        "missing_cols = df2.columns[df2.isnull().any()]\n",
        "print(missing_cols.to_list())"
      ],
      "metadata": {
        "colab": {
          "base_uri": "https://localhost:8080/"
        },
        "id": "2I9PWejOy3zZ",
        "outputId": "614e2258-7ae5-4cd3-bf7e-ebe99c779a37"
      },
      "execution_count": 91,
      "outputs": [
        {
          "output_type": "stream",
          "name": "stdout",
          "text": [
            "['ord_no', 'ord_date', 'salesman_id']\n"
          ]
        }
      ]
    },
    {
      "cell_type": "code",
      "source": [
        "\"\"\"\n",
        "10. Write a Pandas program to count the number of missing values in each column of a given DataFrame.\n",
        "Test Data:\n",
        "     ord_no  purch_amt    ord_date  customer_id  salesman_id\n",
        "0   70001.0     150.50  2012-10-05         3002       5002.0\n",
        "1       NaN     270.65  2012-09-10         3001       5003.0\n",
        "2   70002.0      65.26         NaN         3001       5001.0\n",
        "3   70004.0     110.50  2012-08-17         3003          NaN\n",
        "4       NaN     948.50  2012-09-10         3002       5002.0\n",
        "5   70005.0    2400.60  2012-07-27         3001       5001.0\n",
        "6       NaN    5760.00  2012-09-10         3001       5001.0\n",
        "7   70010.0    1983.43  2012-10-10         3004          NaN\n",
        "8   70003.0    2480.40  2012-10-10         3003       5003.0\n",
        "9   70012.0     250.45  2012-06-27         3002       5002.0\n",
        "10      NaN      75.29  2012-08-17         3001       5003.0\n",
        "11  70013.0    3045.60  2012-04-25         3001          NaN\"\"\"\n",
        "\n",
        "missing_counts = df2.isnull().sum()\n",
        "print(missing_counts)"
      ],
      "metadata": {
        "colab": {
          "base_uri": "https://localhost:8080/"
        },
        "id": "mz3oUlLWt_UU",
        "outputId": "e7b8439f-93ec-4fe5-9043-711bda2af7c9"
      },
      "execution_count": 93,
      "outputs": [
        {
          "output_type": "stream",
          "name": "stdout",
          "text": [
            "ord_no         4\n",
            "purch_amt      0\n",
            "ord_date       1\n",
            "customer_id    0\n",
            "salesman_id    3\n",
            "dtype: int64\n"
          ]
        }
      ]
    },
    {
      "cell_type": "markdown",
      "source": [
        "____"
      ],
      "metadata": {
        "id": "1SI0K_Cazgtx"
      }
    },
    {
      "cell_type": "markdown",
      "source": [
        "Sarah Ali - Mindset Training AI - Level1"
      ],
      "metadata": {
        "id": "qdUYZvr3zhwr"
      }
    }
  ]
}