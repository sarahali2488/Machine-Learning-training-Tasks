{
  "nbformat": 4,
  "nbformat_minor": 0,
  "metadata": {
    "colab": {
      "provenance": []
    },
    "kernelspec": {
      "name": "python3",
      "display_name": "Python 3"
    },
    "language_info": {
      "name": "python"
    }
  },
  "cells": [
    {
      "cell_type": "markdown",
      "source": [
        "# Task on List:\n",
        " You have a list of your favourite marvel super heros.\n",
        "```\n",
        "heros=['spider man','thor','hulk','iron man','captain america']\n",
        "```\n",
        "\n",
        "Using this find out,\n",
        "\n",
        "    1. Length of the list\n",
        "    2. Add 'black panther' at the end of this list\n",
        "    3. You realize that you need to add 'black panther' after 'hulk',\n",
        "       so remove it from the list first and then add it after 'hulk'\n",
        "    4. Now you don't like thor and hulk because they get angry easily :)\n",
        "       So you want to remove thor and hulk from list and replace them with doctor strange (because he is cool).\n",
        "       Do that with one line of code.\n",
        "    5. Sort the heros list in alphabetical order (Hint. Use dir() functions to list down all functions available in list)\n",
        "\n"
      ],
      "metadata": {
        "id": "xaBmKISuRfxI"
      }
    },
    {
      "cell_type": "code",
      "source": [
        "heros = ['spider man', 'thor', 'hulk', 'iron man', 'captain america']\n",
        "\n",
        "# 1. Length of the list\n",
        "print(\"Length of list:\", len(heros))\n",
        "\n",
        "# 2. Add 'black panther' at the end of this list\n",
        "heros.append('black panther')\n",
        "print(\"After appending black panther:\", heros)\n",
        "\n",
        "# 3. Move 'black panther' after 'hulk'\n",
        "heros.remove('black panther')\n",
        "heros.insert(heros.index('hulk') + 1, 'black panther')\n",
        "print(\"After inserting black panther after hulk:\", heros)\n",
        "\n",
        "# 4. Replace thor and hulk with doctor strange\n",
        "heros[heros.index('thor'):heros.index('hulk') + 1] = ['doctor strange']\n",
        "print(\"After replacement:\", heros)\n",
        "\n",
        "# 5. Sort the list alphabetically\n",
        "heros.sort()\n",
        "print(\"Sorted list:\", heros)"
      ],
      "metadata": {
        "id": "8iaj7GypBPNy",
        "colab": {
          "base_uri": "https://localhost:8080/"
        },
        "outputId": "fad4cfa0-a6d0-4582-fd48-31e3a4b1813d"
      },
      "execution_count": 1,
      "outputs": [
        {
          "output_type": "stream",
          "name": "stdout",
          "text": [
            "Length of list: 5\n",
            "After appending black panther: ['spider man', 'thor', 'hulk', 'iron man', 'captain america', 'black panther']\n",
            "After inserting black panther after hulk: ['spider man', 'thor', 'hulk', 'black panther', 'iron man', 'captain america']\n",
            "After replacement: ['spider man', 'doctor strange', 'black panther', 'iron man', 'captain america']\n",
            "Sorted list: ['black panther', 'captain america', 'doctor strange', 'iron man', 'spider man']\n"
          ]
        }
      ]
    },
    {
      "cell_type": "markdown",
      "source": [
        "# Task on Variables:\n",
        "1. Create two variables. One to store your birth year and another one to store current year. Now calculate your age using these two variables\n",
        "2. Store your first, middle and last name in three different variables and then print your full name using these variables\n",
        "3. Answer which of these are invalid variable names:\n",
        "   _nation\n",
        "   1record\n",
        "   record1\n",
        "   record_one\n",
        "   record-one\n",
        "   record^one\n"
      ],
      "metadata": {
        "id": "BR7rqorHTEeJ"
      }
    },
    {
      "cell_type": "code",
      "source": [
        "birth_year = 2003\n",
        "current_year = 2025\n",
        "myAge = current_year - birth_year\n",
        "print(\"My age is:\", myAge)\n",
        "\n",
        "# Full name\n",
        "first = \"Sarah\"\n",
        "middle = \"Ali\"\n",
        "last = \"Mohamed\"\n",
        "print(\"Full name:\", first + \" \" + middle + \" \" + last)\n",
        "\n",
        "# Valid: _nation, record1, record_one\n",
        "# Invalid: 1record (starts with a number), record-one (- not allowed), record^one (^ not allowed)"
      ],
      "metadata": {
        "colab": {
          "base_uri": "https://localhost:8080/"
        },
        "id": "bpAiMzOSx5cO",
        "outputId": "294106ab-c0c0-4dd5-d28b-c24b4a75a659"
      },
      "execution_count": 3,
      "outputs": [
        {
          "output_type": "stream",
          "name": "stdout",
          "text": [
            "My age is: 22\n",
            "Full name: Sarah Ali Mohamed\n"
          ]
        }
      ]
    },
    {
      "cell_type": "markdown",
      "source": [
        "# Task on Numbers:\n",
        "\n",
        "1. You have a football field that is 92 meter long and 48.8 meter wide. Find out total\n",
        "area using python and print it.\n",
        "2. You bought 9 packets of potato chips from a store. Each packet costs 1.49 dollar\n",
        "and you gave shopkeeper 20 dollar. Find out using python, how many dollars is the shopkeeper going to give you back?\n",
        "3. You want to replace tiles in your bathroom which is exactly square and 5.5 feet\n",
        "is its length. If tiles cost 500 rs per square feet, how much will be the total\n",
        "cost to replace all tiles. Calculate and print the cost using python\n",
        "(Hint: Use power operator ** to find area of a square)"
      ],
      "metadata": {
        "id": "rlTSk635UjwK"
      }
    },
    {
      "cell_type": "code",
      "source": [
        "length = 92\n",
        "width = 48.8\n",
        "area = length * width\n",
        "print(\"Area\", area)\n",
        "\n",
        "# Potato chips cost\n",
        "packets = 9\n",
        "cost_per_packet = 1.49\n",
        "total_cost = packets * cost_per_packet\n",
        "money = 20\n",
        "returned_money = money - (total_cost)\n",
        "print(\"Returned money: \", returned_money)\n",
        "\n",
        "# Tile replacement cost\n",
        "length = 5.5\n",
        "tile_cost = 500\n",
        "total_tile_cost = (length ** 2) * tile_cost\n",
        "print(\"Cost to replace tiles: \", total_tile_cost)\n"
      ],
      "metadata": {
        "colab": {
          "base_uri": "https://localhost:8080/"
        },
        "id": "3fH9UmDByej6",
        "outputId": "eaff1fc7-29bb-4d50-d16e-db10714491a5"
      },
      "execution_count": 7,
      "outputs": [
        {
          "output_type": "stream",
          "name": "stdout",
          "text": [
            "Area 4489.599999999999\n",
            "Returned money:  6.59\n",
            "Cost to replace tiles:  15125.0\n"
          ]
        }
      ]
    },
    {
      "cell_type": "markdown",
      "source": [
        "# Task on String:\n",
        "1. Create 3 variables to store street, city and country, now create address variable to\n",
        "store entire address. Use two ways of creating this variable, one using + operator and the other using f-string.\n",
        "Now Print the address in such a way that the street, city and country prints in a separate line\n",
        "2. Create a variable to store the string \"Earth revolves around the sun\"\n",
        "    1. Print \"revolves\" using slice operator\n",
        "    2. Print \"sun\" using negative index\n",
        "3. Create two variables to store how many fruits and vegetables you eat in a day.\n",
        "Now Print \"I eat x veggies and y fruits daily\" where x and y presents vegetables and fruits that you eat everyday. Use python f string for this.\n",
        "4. I have a string variable called s='maine 200 banana khaye'. This of course is a\n",
        "wrong statement, the correct statement is 'maine 10 samosa khaye'.\n",
        "Replace incorrect words in original strong with new ones and print the new string.\n",
        "Also try to do this in one line."
      ],
      "metadata": {
        "id": "Si0IvvMfUo_t"
      }
    },
    {
      "cell_type": "code",
      "source": [
        "street = \"Mehwar\"\n",
        "city = \"Cairo\"\n",
        "country = \"Egypt\"\n",
        "\n",
        "# Using +\n",
        "address1 = street + \"\\n\" + city + \"\\n\" + country\n",
        "print(\"Address using + operator: \", address1)\n",
        "\n",
        "# Using f-string\n",
        "address2 = f\"{street}\\n{city}\\n{country}\"\n",
        "print(\"Address using f-string:\\n\", address2)\n",
        "\n",
        "# Slice operator\n",
        "sentence = \"Earth revolves around the sun\"\n",
        "print(\"using slice:\", sentence[6:14])\n",
        "print(\"using negative index:\", sentence[-3:])\n",
        "\n",
        "# Fruits and veggies\n",
        "x = 2 #Fruits\n",
        "y = 3 #veggies\n",
        "print(f\"I eat {y} veggies and {x} fruits daily\")\n",
        "\n",
        "# Replace in one line\n",
        "s = \"maine 200 banana khaye\"\n",
        "s = s.replace(\"200\", \"10\").replace(\"banana\", \"samosa\")\n",
        "print(s)"
      ],
      "metadata": {
        "colab": {
          "base_uri": "https://localhost:8080/"
        },
        "id": "lUiiJYlvzY7L",
        "outputId": "2c5d7b3e-768d-4c64-b411-dfa52c3c80af"
      },
      "execution_count": 15,
      "outputs": [
        {
          "output_type": "stream",
          "name": "stdout",
          "text": [
            "Address using + operator:  Mehwar\n",
            "Cairo\n",
            "Egypt\n",
            "Address using f-string:\n",
            " Mehwar\n",
            "Cairo\n",
            "Egypt\n",
            "using slice: revolves\n",
            "using negative index: sun\n",
            "I eat 3 veggies and 2 fruits daily\n",
            "maine 10 samosa khaye\n"
          ]
        }
      ]
    },
    {
      "cell_type": "markdown",
      "source": [
        "_____________\n"
      ],
      "metadata": {
        "id": "P4kxXZck0yM6"
      }
    }
  ]
}